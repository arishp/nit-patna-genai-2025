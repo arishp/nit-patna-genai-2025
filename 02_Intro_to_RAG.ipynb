{
  "cells": [
    {
      "cell_type": "markdown",
      "metadata": {
        "colab_type": "text",
        "id": "view-in-github"
      },
      "source": [
        "<a href=\"https://colab.research.google.com/github/arishp/srm-ap-genai-2024/blob/main/02_Intro_to_RAG.ipynb\" target=\"_parent\"><img src=\"https://colab.research.google.com/assets/colab-badge.svg\" alt=\"Open In Colab\"/></a>"
      ]
    },
    {
      "cell_type": "markdown",
      "metadata": {
        "id": "Z1JXcPWgxWId"
      },
      "source": [
        "# Document Loaders"
      ]
    },
    {
      "cell_type": "code",
      "execution_count": 1,
      "metadata": {},
      "outputs": [],
      "source": [
        "import warnings\n",
        "warnings.filterwarnings(\"ignore\")"
      ]
    },
    {
      "cell_type": "code",
      "execution_count": 2,
      "metadata": {
        "colab": {
          "base_uri": "https://localhost:8080/"
        },
        "id": "62_lQV7-wfj0",
        "outputId": "18624b21-a64b-4998-a00e-5b08799b79e9"
      },
      "outputs": [
        {
          "data": {
            "text/plain": [
              "1"
            ]
          },
          "execution_count": 2,
          "metadata": {},
          "output_type": "execute_result"
        }
      ],
      "source": [
        "from langchain.document_loaders import TextLoader\n",
        "\n",
        "loader = TextLoader('sample.txt')\n",
        "documents = loader.load()\n",
        "len(documents)"
      ]
    },
    {
      "cell_type": "markdown",
      "metadata": {
        "id": "Q9zEDz4cySgY"
      },
      "source": [
        "# Document Transformers"
      ]
    },
    {
      "cell_type": "code",
      "execution_count": 3,
      "metadata": {
        "colab": {
          "base_uri": "https://localhost:8080/"
        },
        "id": "aHKFT2lnx1j7",
        "outputId": "a1a2862f-52ca-48dc-d49a-2afa4f759b3e"
      },
      "outputs": [
        {
          "data": {
            "text/plain": [
              "129"
            ]
          },
          "execution_count": 3,
          "metadata": {},
          "output_type": "execute_result"
        }
      ],
      "source": [
        "from langchain.text_splitter import CharacterTextSplitter\n",
        "\n",
        "text_splitter = CharacterTextSplitter(separator=\" \", chunk_size=300, chunk_overlap=50)\n",
        "texts = text_splitter.split_documents(documents)\n",
        "len(texts)"
      ]
    },
    {
      "cell_type": "code",
      "execution_count": 4,
      "metadata": {
        "colab": {
          "base_uri": "https://localhost:8080/"
        },
        "id": "SN9qmgQAylYq",
        "outputId": "b5f73e3d-973d-4e52-f085-075f91d7c1d7"
      },
      "outputs": [
        {
          "data": {
            "text/plain": [
              "[Document(metadata={'source': 'sample.txt'}, page_content='Dhoni\" redirects here. For other uses, see Dhoni (disambiguation).\\nLieutenant colonel\\nMahendra Singh Dhoni\\n\\nDhoni in 2023\\nPersonal details\\nBorn\\t7 July 1981 (age 43)\\nRanchi, Bihar (present-day Jharkhand), India\\nHeight\\t5 ft 9 in (175 cm)[1]\\nSpouse\\tSakshi Dhoni\\nAwards\\t\\n Padma Bhushan (2018)\\n Padma Shri'),\n",
              " Document(metadata={'source': 'sample.txt'}, page_content='Dhoni\\nAwards\\t\\n Padma Bhushan (2018)\\n Padma Shri (2009)\\nMajor Dhyan Chand Khel Ratna Award (2008)\\nNickname(s)\\tMahi, Thala, Captain Cool[2]\\nMilitary service\\nAllegiance\\t India\\nBranch/service\\t Indian Army\\nYears of service\\t2011–present\\nRank\\t Lieutenant colonel\\nUnit\\t Territorial Army\\nPersonal')]"
            ]
          },
          "execution_count": 4,
          "metadata": {},
          "output_type": "execute_result"
        }
      ],
      "source": [
        "texts[:2]"
      ]
    },
    {
      "cell_type": "markdown",
      "metadata": {
        "id": "UUgXYx-WzXlT"
      },
      "source": [
        "# Text Embedding Models"
      ]
    },
    {
      "cell_type": "code",
      "execution_count": 5,
      "metadata": {
        "id": "YOGDtxlKzJ6r"
      },
      "outputs": [],
      "source": [
        "# from langchain_huggingface import HuggingFaceEmbeddings\n",
        "# embeddings = HuggingFaceEmbeddings(model_name=\"all-MiniLM-L6-v2\")"
      ]
    },
    {
      "cell_type": "code",
      "execution_count": 7,
      "metadata": {},
      "outputs": [],
      "source": [
        "from langchain_google_genai import GoogleGenerativeAIEmbeddings\n",
        "\n",
        "embeddings=GoogleGenerativeAIEmbeddings(model='models/embedding-001')"
      ]
    },
    {
      "cell_type": "code",
      "execution_count": 8,
      "metadata": {},
      "outputs": [],
      "source": [
        "from langchain_community.vectorstores import Chroma\n",
        "db = Chroma.from_documents(texts, embeddings)"
      ]
    },
    {
      "cell_type": "markdown",
      "metadata": {
        "id": "EfDdUWga0Lhn"
      },
      "source": [
        "# Vector Stores"
      ]
    },
    {
      "cell_type": "code",
      "execution_count": 15,
      "metadata": {
        "id": "EqXoI4mn0KEO"
      },
      "outputs": [],
      "source": [
        "from langchain.vectorstores import Chroma\n",
        "db = Chroma.from_documents(texts, embeddings)"
      ]
    },
    {
      "cell_type": "code",
      "execution_count": 10,
      "metadata": {
        "id": "c9MylagjzmBi"
      },
      "outputs": [],
      "source": [
        "# db._collection.get(include=['embeddings'])"
      ]
    },
    {
      "cell_type": "markdown",
      "metadata": {
        "id": "QuvaQwBb04kR"
      },
      "source": [
        "# Retrievers"
      ]
    },
    {
      "cell_type": "code",
      "execution_count": 11,
      "metadata": {
        "id": "ol-RqAc200UK"
      },
      "outputs": [],
      "source": [
        "retriever = db.as_retriever(search_kwargs={\"k\":4})"
      ]
    },
    {
      "cell_type": "code",
      "execution_count": 12,
      "metadata": {
        "colab": {
          "base_uri": "https://localhost:8080/"
        },
        "id": "bejIGX6r1EfB",
        "outputId": "a78c7e2b-b7f6-43a4-9f22-267bef752bb2"
      },
      "outputs": [
        {
          "data": {
            "text/plain": [
              "VectorStoreRetriever(tags=['Chroma', 'GoogleGenerativeAIEmbeddings'], vectorstore=<langchain_community.vectorstores.chroma.Chroma object at 0x138ad3f40>, search_kwargs={'k': 4})"
            ]
          },
          "execution_count": 12,
          "metadata": {},
          "output_type": "execute_result"
        }
      ],
      "source": [
        "retriever"
      ]
    },
    {
      "cell_type": "markdown",
      "metadata": {
        "id": "ZsZ5Oe5i1SU4"
      },
      "source": [
        "# Question 1"
      ]
    },
    {
      "cell_type": "code",
      "execution_count": 13,
      "metadata": {
        "colab": {
          "base_uri": "https://localhost:8080/"
        },
        "id": "z58yALDrhML5",
        "outputId": "dc9c0c0a-8b1c-4fa0-e71a-fa08de99ec3b"
      },
      "outputs": [],
      "source": [
        "question = input(\"enter your question?\")"
      ]
    },
    {
      "cell_type": "code",
      "execution_count": 14,
      "metadata": {},
      "outputs": [
        {
          "data": {
            "text/plain": [
              "'who is dhoni married to?'"
            ]
          },
          "execution_count": 14,
          "metadata": {},
          "output_type": "execute_result"
        }
      ],
      "source": [
        "question"
      ]
    },
    {
      "cell_type": "code",
      "execution_count": 15,
      "metadata": {
        "colab": {
          "base_uri": "https://localhost:8080/"
        },
        "id": "8qnbt8VE1F_K",
        "outputId": "3941646c-4b97-4656-939f-feca3c092da1"
      },
      "outputs": [],
      "source": [
        "# docs = retriever.get_relevant_documents(question)\n",
        "docs = retriever.invoke(question)"
      ]
    },
    {
      "cell_type": "code",
      "execution_count": 16,
      "metadata": {
        "colab": {
          "base_uri": "https://localhost:8080/"
        },
        "id": "OqWD4_DT1a3i",
        "outputId": "1cc0e44d-41ab-4f2b-bd4a-3d3a6a2c4d7c"
      },
      "outputs": [
        {
          "data": {
            "text/plain": [
              "[Document(metadata={'source': 'sample.txt'}, page_content='of being a successful leader.[176][177] Dhoni is also known for his cool-headed demeanor on the field which has earned him the monicker \"Captain cool\".[178]\\n\\nPersonal life\\nDhoni married Sakshi Singh Rawat on 4 July 2010 in Dehradun.[179][180] Dhoni and his wife have a daughter, Ziva Dhoni who was'),\n",
              " Document(metadata={'source': 'sample.txt'}, page_content='(now in Jharkhand) in a Hindu Rajput family to Pan Singh and Devaki Devi.[3] His parents hailed from Lwali village in Uttar Pradesh (now Uttarakhand) and he was the youngest of three children.[4][5][6] His family spells the surname as \"Dhauni\".[7] The spelling \"Dhoni\" emerged due to a spelling'),\n",
              " Document(metadata={'source': 'sample.txt'}, page_content='in India Cements Ltd, the company owned by former BCCI president N. Srinivasan.[145][146] Dhoni is a co-owner of Chennai-based football club Chennaiyin FC, a franchise of the Indian Super League.[147] He also co-owns Ranchi-based hockey club Ranchi Rays, a franchise of the Hockey India League.[148]'),\n",
              " Document(metadata={'source': 'sample.txt'}, page_content='and his wife have a daughter, Ziva Dhoni who was born on 6 February 2015.[181][182] He lives in his farmhouse outside Ranchi.[183] Dhoni is an automotive enthusiast and owns a number of bikes and cars in his collection.[184]He is having enormous fan base throughout the World especially in')]"
            ]
          },
          "execution_count": 16,
          "metadata": {},
          "output_type": "execute_result"
        }
      ],
      "source": [
        "docs"
      ]
    },
    {
      "cell_type": "code",
      "execution_count": 17,
      "metadata": {},
      "outputs": [
        {
          "data": {
            "text/plain": [
              "'(now in Jharkhand) in a Hindu Rajput family to Pan Singh and Devaki Devi.[3] His parents hailed from Lwali village in Uttar Pradesh (now Uttarakhand) and he was the youngest of three children.[4][5][6] His family spells the surname as \"Dhauni\".[7] The spelling \"Dhoni\" emerged due to a spelling'"
            ]
          },
          "execution_count": 17,
          "metadata": {},
          "output_type": "execute_result"
        }
      ],
      "source": [
        "docs[1].page_content"
      ]
    },
    {
      "cell_type": "code",
      "execution_count": 18,
      "metadata": {
        "colab": {
          "base_uri": "https://localhost:8080/"
        },
        "id": "dOYqE_O8noVX",
        "outputId": "b713898a-8091-4ac4-af2b-ef70f792972d"
      },
      "outputs": [
        {
          "name": "stdout",
          "output_type": "stream",
          "text": [
            "of being a successful leader.[176][177] Dhoni is also known for his cool-headed demeanor on the field which has earned him the monicker \"Captain cool\".[178]\n",
            "\n",
            "Personal life\n",
            "Dhoni married Sakshi Singh Rawat on 4 July 2010 in Dehradun.[179][180] Dhoni and his wife have a daughter, Ziva Dhoni who was(now in Jharkhand) in a Hindu Rajput family to Pan Singh and Devaki Devi.[3] His parents hailed from Lwali village in Uttar Pradesh (now Uttarakhand) and he was the youngest of three children.[4][5][6] His family spells the surname as \"Dhauni\".[7] The spelling \"Dhoni\" emerged due to a spellingin India Cements Ltd, the company owned by former BCCI president N. Srinivasan.[145][146] Dhoni is a co-owner of Chennai-based football club Chennaiyin FC, a franchise of the Indian Super League.[147] He also co-owns Ranchi-based hockey club Ranchi Rays, a franchise of the Hockey India League.[148]and his wife have a daughter, Ziva Dhoni who was born on 6 February 2015.[181][182] He lives in his farmhouse outside Ranchi.[183] Dhoni is an automotive enthusiast and owns a number of bikes and cars in his collection.[184]He is having enormous fan base throughout the World especially in\n"
          ]
        }
      ],
      "source": [
        "relevant_text = ''\n",
        "for doc in docs:\n",
        "  relevant_text += doc.page_content\n",
        "print(relevant_text)"
      ]
    },
    {
      "cell_type": "code",
      "execution_count": 19,
      "metadata": {},
      "outputs": [
        {
          "data": {
            "text/plain": [
              "True"
            ]
          },
          "execution_count": 19,
          "metadata": {},
          "output_type": "execute_result"
        }
      ],
      "source": [
        "from dotenv import load_dotenv\n",
        "import os\n",
        "\n",
        "load_dotenv()"
      ]
    },
    {
      "cell_type": "code",
      "execution_count": 20,
      "metadata": {},
      "outputs": [],
      "source": [
        "from langchain_google_genai import ChatGoogleGenerativeAI\n",
        "\n",
        "llm = ChatGoogleGenerativeAI(model=\"gemini-2.0-flash\")"
      ]
    },
    {
      "cell_type": "code",
      "execution_count": 21,
      "metadata": {
        "id": "Py_c2BVOjMIw"
      },
      "outputs": [],
      "source": [
        "from langchain.prompts import PromptTemplate\n",
        "\n",
        "template = \"\"\"Answer the question in one line using the following information:\n",
        "\n",
        "```{information}```.\n",
        "\n",
        "\n",
        "*** Question ***\n",
        "\n",
        "{question}\n",
        "\n",
        "*** Answer ***\"\"\"\n",
        "\n",
        "prompt = PromptTemplate.from_template(template=template)"
      ]
    },
    {
      "cell_type": "code",
      "execution_count": 22,
      "metadata": {},
      "outputs": [
        {
          "data": {
            "text/plain": [
              "'who is dhoni married to?'"
            ]
          },
          "execution_count": 22,
          "metadata": {},
          "output_type": "execute_result"
        }
      ],
      "source": [
        "question"
      ]
    },
    {
      "cell_type": "code",
      "execution_count": 23,
      "metadata": {},
      "outputs": [
        {
          "data": {
            "text/plain": [
              "'of being a successful leader.[176][177] Dhoni is also known for his cool-headed demeanor on the field which has earned him the monicker \"Captain cool\".[178]\\n\\nPersonal life\\nDhoni married Sakshi Singh Rawat on 4 July 2010 in Dehradun.[179][180] Dhoni and his wife have a daughter, Ziva Dhoni who was(now in Jharkhand) in a Hindu Rajput family to Pan Singh and Devaki Devi.[3] His parents hailed from Lwali village in Uttar Pradesh (now Uttarakhand) and he was the youngest of three children.[4][5][6] His family spells the surname as \"Dhauni\".[7] The spelling \"Dhoni\" emerged due to a spellingin India Cements Ltd, the company owned by former BCCI president N. Srinivasan.[145][146] Dhoni is a co-owner of Chennai-based football club Chennaiyin FC, a franchise of the Indian Super League.[147] He also co-owns Ranchi-based hockey club Ranchi Rays, a franchise of the Hockey India League.[148]and his wife have a daughter, Ziva Dhoni who was born on 6 February 2015.[181][182] He lives in his farmhouse outside Ranchi.[183] Dhoni is an automotive enthusiast and owns a number of bikes and cars in his collection.[184]He is having enormous fan base throughout the World especially in'"
            ]
          },
          "execution_count": 23,
          "metadata": {},
          "output_type": "execute_result"
        }
      ],
      "source": [
        "relevant_text"
      ]
    },
    {
      "cell_type": "code",
      "execution_count": 24,
      "metadata": {},
      "outputs": [],
      "source": [
        "prompt_formatted_str: str = prompt.format(question=question, information=relevant_text)"
      ]
    },
    {
      "cell_type": "code",
      "execution_count": 25,
      "metadata": {},
      "outputs": [
        {
          "data": {
            "text/plain": [
              "'Answer the question in one line using the following information:\\n\\n```of being a successful leader.[176][177] Dhoni is also known for his cool-headed demeanor on the field which has earned him the monicker \"Captain cool\".[178]\\n\\nPersonal life\\nDhoni married Sakshi Singh Rawat on 4 July 2010 in Dehradun.[179][180] Dhoni and his wife have a daughter, Ziva Dhoni who was(now in Jharkhand) in a Hindu Rajput family to Pan Singh and Devaki Devi.[3] His parents hailed from Lwali village in Uttar Pradesh (now Uttarakhand) and he was the youngest of three children.[4][5][6] His family spells the surname as \"Dhauni\".[7] The spelling \"Dhoni\" emerged due to a spellingin India Cements Ltd, the company owned by former BCCI president N. Srinivasan.[145][146] Dhoni is a co-owner of Chennai-based football club Chennaiyin FC, a franchise of the Indian Super League.[147] He also co-owns Ranchi-based hockey club Ranchi Rays, a franchise of the Hockey India League.[148]and his wife have a daughter, Ziva Dhoni who was born on 6 February 2015.[181][182] He lives in his farmhouse outside Ranchi.[183] Dhoni is an automotive enthusiast and owns a number of bikes and cars in his collection.[184]He is having enormous fan base throughout the World especially in```.\\n\\n\\n*** Question ***\\n\\nwho is dhoni married to?\\n\\n*** Answer ***'"
            ]
          },
          "execution_count": 25,
          "metadata": {},
          "output_type": "execute_result"
        }
      ],
      "source": [
        "prompt_formatted_str"
      ]
    },
    {
      "cell_type": "code",
      "execution_count": 27,
      "metadata": {
        "colab": {
          "base_uri": "https://localhost:8080/",
          "height": 35
        },
        "id": "E3uP7Jsqp5K6",
        "outputId": "ab3b3b9f-a5e7-44b1-e1de-59821867ae63"
      },
      "outputs": [],
      "source": [
        "response = llm.invoke(prompt_formatted_str)"
      ]
    },
    {
      "cell_type": "code",
      "execution_count": 28,
      "metadata": {},
      "outputs": [
        {
          "data": {
            "text/plain": [
              "'Dhoni is married to Sakshi Singh Rawat.'"
            ]
          },
          "execution_count": 28,
          "metadata": {},
          "output_type": "execute_result"
        }
      ],
      "source": [
        "response.content"
      ]
    }
  ],
  "metadata": {
    "accelerator": "GPU",
    "colab": {
      "authorship_tag": "ABX9TyM3q3EcQWDgferRMSplC/2a",
      "gpuType": "T4",
      "include_colab_link": true,
      "provenance": []
    },
    "kernelspec": {
      "display_name": ".venv",
      "language": "python",
      "name": "python3"
    },
    "language_info": {
      "codemirror_mode": {
        "name": "ipython",
        "version": 3
      },
      "file_extension": ".py",
      "mimetype": "text/x-python",
      "name": "python",
      "nbconvert_exporter": "python",
      "pygments_lexer": "ipython3",
      "version": "3.10.9"
    }
  },
  "nbformat": 4,
  "nbformat_minor": 0
}
