{
  "cells": [
    {
      "cell_type": "markdown",
      "metadata": {
        "colab_type": "text",
        "id": "view-in-github"
      },
      "source": [
        "<a href=\"https://colab.research.google.com/github/arishp/srm-ap-genai-2024/blob/main/02_Intro_to_RAG.ipynb\" target=\"_parent\"><img src=\"https://colab.research.google.com/assets/colab-badge.svg\" alt=\"Open In Colab\"/></a>"
      ]
    },
    {
      "cell_type": "markdown",
      "metadata": {
        "id": "Z1JXcPWgxWId"
      },
      "source": [
        "# Document Loaders"
      ]
    },
    {
      "cell_type": "code",
      "execution_count": 3,
      "metadata": {
        "colab": {
          "base_uri": "https://localhost:8080/"
        },
        "id": "62_lQV7-wfj0",
        "outputId": "18624b21-a64b-4998-a00e-5b08799b79e9"
      },
      "outputs": [
        {
          "data": {
            "text/plain": [
              "1"
            ]
          },
          "execution_count": 3,
          "metadata": {},
          "output_type": "execute_result"
        }
      ],
      "source": [
        "from langchain.document_loaders import TextLoader\n",
        "\n",
        "loader = TextLoader('sample.txt')\n",
        "documents = loader.load()\n",
        "len(documents)"
      ]
    },
    {
      "cell_type": "markdown",
      "metadata": {
        "id": "Q9zEDz4cySgY"
      },
      "source": [
        "# Document Transformers"
      ]
    },
    {
      "cell_type": "code",
      "execution_count": 8,
      "metadata": {
        "colab": {
          "base_uri": "https://localhost:8080/"
        },
        "id": "aHKFT2lnx1j7",
        "outputId": "a1a2862f-52ca-48dc-d49a-2afa4f759b3e"
      },
      "outputs": [
        {
          "data": {
            "text/plain": [
              "129"
            ]
          },
          "execution_count": 8,
          "metadata": {},
          "output_type": "execute_result"
        }
      ],
      "source": [
        "from langchain.text_splitter import CharacterTextSplitter\n",
        "\n",
        "text_splitter = CharacterTextSplitter(separator=\" \", chunk_size=300, chunk_overlap=50)\n",
        "texts = text_splitter.split_documents(documents)\n",
        "len(texts)"
      ]
    },
    {
      "cell_type": "code",
      "execution_count": 9,
      "metadata": {
        "colab": {
          "base_uri": "https://localhost:8080/"
        },
        "id": "SN9qmgQAylYq",
        "outputId": "b5f73e3d-973d-4e52-f085-075f91d7c1d7"
      },
      "outputs": [
        {
          "data": {
            "text/plain": [
              "[Document(metadata={'source': 'sample.txt'}, page_content='Dhoni\" redirects here. For other uses, see Dhoni (disambiguation).\\nLieutenant colonel\\nMahendra Singh Dhoni\\n\\nDhoni in 2023\\nPersonal details\\nBorn\\t7 July 1981 (age 43)\\nRanchi, Bihar (present-day Jharkhand), India\\nHeight\\t5 ft 9 in (175 cm)[1]\\nSpouse\\tSakshi Dhoni\\nAwards\\t\\n Padma Bhushan (2018)\\n Padma Shri'),\n",
              " Document(metadata={'source': 'sample.txt'}, page_content='Dhoni\\nAwards\\t\\n Padma Bhushan (2018)\\n Padma Shri (2009)\\nMajor Dhyan Chand Khel Ratna Award (2008)\\nNickname(s)\\tMahi, Thala, Captain Cool[2]\\nMilitary service\\nAllegiance\\t India\\nBranch/service\\t Indian Army\\nYears of service\\t2011–present\\nRank\\t Lieutenant colonel\\nUnit\\t Territorial Army\\nPersonal')]"
            ]
          },
          "execution_count": 9,
          "metadata": {},
          "output_type": "execute_result"
        }
      ],
      "source": [
        "texts[:2]"
      ]
    },
    {
      "cell_type": "markdown",
      "metadata": {
        "id": "UUgXYx-WzXlT"
      },
      "source": [
        "# Text Embedding Models"
      ]
    },
    {
      "cell_type": "code",
      "execution_count": 11,
      "metadata": {
        "id": "YOGDtxlKzJ6r"
      },
      "outputs": [],
      "source": [
        "from langchain_huggingface import HuggingFaceEmbeddings\n",
        "embeddings = HuggingFaceEmbeddings(model_name=\"all-MiniLM-L6-v2\")"
      ]
    },
    {
      "cell_type": "markdown",
      "metadata": {
        "id": "EfDdUWga0Lhn"
      },
      "source": [
        "# Vector Stores"
      ]
    },
    {
      "cell_type": "code",
      "execution_count": 15,
      "metadata": {
        "id": "EqXoI4mn0KEO"
      },
      "outputs": [],
      "source": [
        "from langchain.vectorstores import Chroma\n",
        "db = Chroma.from_documents(texts, embeddings)"
      ]
    },
    {
      "cell_type": "code",
      "execution_count": 14,
      "metadata": {
        "id": "c9MylagjzmBi"
      },
      "outputs": [],
      "source": [
        "# db._collection.get(include=['embeddings'])"
      ]
    },
    {
      "cell_type": "markdown",
      "metadata": {
        "id": "QuvaQwBb04kR"
      },
      "source": [
        "# Retrievers"
      ]
    },
    {
      "cell_type": "code",
      "execution_count": 16,
      "metadata": {
        "id": "ol-RqAc200UK"
      },
      "outputs": [],
      "source": [
        "retriever = db.as_retriever(search_kwargs={\"k\":4})"
      ]
    },
    {
      "cell_type": "code",
      "execution_count": 17,
      "metadata": {
        "colab": {
          "base_uri": "https://localhost:8080/"
        },
        "id": "bejIGX6r1EfB",
        "outputId": "a78c7e2b-b7f6-43a4-9f22-267bef752bb2"
      },
      "outputs": [
        {
          "data": {
            "text/plain": [
              "VectorStoreRetriever(tags=['Chroma', 'HuggingFaceEmbeddings'], vectorstore=<langchain_community.vectorstores.chroma.Chroma object at 0x176c88310>, search_kwargs={'k': 4})"
            ]
          },
          "execution_count": 17,
          "metadata": {},
          "output_type": "execute_result"
        }
      ],
      "source": [
        "retriever"
      ]
    },
    {
      "cell_type": "markdown",
      "metadata": {
        "id": "ZsZ5Oe5i1SU4"
      },
      "source": [
        "# Question 1"
      ]
    },
    {
      "cell_type": "code",
      "execution_count": 42,
      "metadata": {
        "colab": {
          "base_uri": "https://localhost:8080/"
        },
        "id": "z58yALDrhML5",
        "outputId": "dc9c0c0a-8b1c-4fa0-e71a-fa08de99ec3b"
      },
      "outputs": [],
      "source": [
        "question = input(\"enter your question?\")"
      ]
    },
    {
      "cell_type": "code",
      "execution_count": 43,
      "metadata": {},
      "outputs": [
        {
          "data": {
            "text/plain": [
              "\"what is dhoni's date of birth\""
            ]
          },
          "execution_count": 43,
          "metadata": {},
          "output_type": "execute_result"
        }
      ],
      "source": [
        "question"
      ]
    },
    {
      "cell_type": "code",
      "execution_count": 44,
      "metadata": {
        "colab": {
          "base_uri": "https://localhost:8080/"
        },
        "id": "8qnbt8VE1F_K",
        "outputId": "3941646c-4b97-4656-939f-feca3c092da1"
      },
      "outputs": [],
      "source": [
        "# docs = retriever.get_relevant_documents(question)\n",
        "docs = retriever.invoke(question)"
      ]
    },
    {
      "cell_type": "code",
      "execution_count": 45,
      "metadata": {
        "colab": {
          "base_uri": "https://localhost:8080/"
        },
        "id": "OqWD4_DT1a3i",
        "outputId": "1cc0e44d-41ab-4f2b-bd4a-3d3a6a2c4d7c"
      },
      "outputs": [
        {
          "data": {
            "text/plain": [
              "[Document(metadata={'source': 'sample.txt'}, page_content='rank of Lieutenant colonel in the Parachute Regiment of the Indian Territorial Army which was presented to him by the Indian Army in 2011. He is one of the most popular cricketers in the world.\\n\\nEarly life\\nDhoni was born on 7 July 1981 in Ranchi, Bihar (now in Jharkhand) in a Hindu Rajput family to'),\n",
              " Document(metadata={'source': 'sample.txt'}, page_content='Dhoni\" redirects here. For other uses, see Dhoni (disambiguation).\\nLieutenant colonel\\nMahendra Singh Dhoni\\n\\nDhoni in 2023\\nPersonal details\\nBorn\\t7 July 1981 (age 43)\\nRanchi, Bihar (present-day Jharkhand), India\\nHeight\\t5 ft 9 in (175 cm)[1]\\nSpouse\\tSakshi Dhoni\\nAwards\\t\\n Padma Bhushan (2018)\\n Padma Shri'),\n",
              " Document(metadata={'source': 'sample.txt'}, page_content='2010, 2016 and was a member of the title winning squad in 2018.\\n\\nBorn in Ranchi, Dhoni made his first class debut for Bihar in 1999. He made his debut for the Indian cricket team on 23 December 2004 in an ODI against Bangladesh and played his first test a year later against Sri Lanka. In 2007, he'),\n",
              " Document(metadata={'source': 'sample.txt'}, page_content=\"cricket on 15 August 2020 as he had not played any international cricket since India's loss in the 2019 world cup semi-final.[117]\\n\\nDomestic career\\nDhoni played for Bihar state cricket team since 1999 before representing Jharkhand later. He has also played for Rajasthan Cricket Association\")]"
            ]
          },
          "execution_count": 45,
          "metadata": {},
          "output_type": "execute_result"
        }
      ],
      "source": [
        "docs"
      ]
    },
    {
      "cell_type": "code",
      "execution_count": 23,
      "metadata": {},
      "outputs": [
        {
          "data": {
            "text/plain": [
              "'of being a successful leader.[176][177] Dhoni is also known for his cool-headed demeanor on the field which has earned him the monicker \"Captain cool\".[178]\\n\\nPersonal life\\nDhoni married Sakshi Singh Rawat on 4 July 2010 in Dehradun.[179][180] Dhoni and his wife have a daughter, Ziva Dhoni who was'"
            ]
          },
          "execution_count": 23,
          "metadata": {},
          "output_type": "execute_result"
        }
      ],
      "source": [
        "docs[1].page_content"
      ]
    },
    {
      "cell_type": "code",
      "execution_count": 46,
      "metadata": {
        "colab": {
          "base_uri": "https://localhost:8080/"
        },
        "id": "dOYqE_O8noVX",
        "outputId": "b713898a-8091-4ac4-af2b-ef70f792972d"
      },
      "outputs": [
        {
          "name": "stdout",
          "output_type": "stream",
          "text": [
            "rank of Lieutenant colonel in the Parachute Regiment of the Indian Territorial Army which was presented to him by the Indian Army in 2011. He is one of the most popular cricketers in the world.\n",
            "\n",
            "Early life\n",
            "Dhoni was born on 7 July 1981 in Ranchi, Bihar (now in Jharkhand) in a Hindu Rajput family toDhoni\" redirects here. For other uses, see Dhoni (disambiguation).\n",
            "Lieutenant colonel\n",
            "Mahendra Singh Dhoni\n",
            "\n",
            "Dhoni in 2023\n",
            "Personal details\n",
            "Born\t7 July 1981 (age 43)\n",
            "Ranchi, Bihar (present-day Jharkhand), India\n",
            "Height\t5 ft 9 in (175 cm)[1]\n",
            "Spouse\tSakshi Dhoni\n",
            "Awards\t\n",
            " Padma Bhushan (2018)\n",
            " Padma Shri2010, 2016 and was a member of the title winning squad in 2018.\n",
            "\n",
            "Born in Ranchi, Dhoni made his first class debut for Bihar in 1999. He made his debut for the Indian cricket team on 23 December 2004 in an ODI against Bangladesh and played his first test a year later against Sri Lanka. In 2007, hecricket on 15 August 2020 as he had not played any international cricket since India's loss in the 2019 world cup semi-final.[117]\n",
            "\n",
            "Domestic career\n",
            "Dhoni played for Bihar state cricket team since 1999 before representing Jharkhand later. He has also played for Rajasthan Cricket Association\n"
          ]
        }
      ],
      "source": [
        "relevant_text = ''\n",
        "for doc in docs:\n",
        "  relevant_text += doc.page_content\n",
        "print(relevant_text)"
      ]
    },
    {
      "cell_type": "code",
      "execution_count": 47,
      "metadata": {},
      "outputs": [
        {
          "data": {
            "text/plain": [
              "True"
            ]
          },
          "execution_count": 47,
          "metadata": {},
          "output_type": "execute_result"
        }
      ],
      "source": [
        "from dotenv import load_dotenv\n",
        "import os\n",
        "\n",
        "load_dotenv()\n",
        "# os.environ['HUGGINGFACE_HUB_API_KEY']"
      ]
    },
    {
      "cell_type": "code",
      "execution_count": 49,
      "metadata": {
        "colab": {
          "base_uri": "https://localhost:8080/"
        },
        "id": "5e5525Rxi9XT",
        "outputId": "df03e97f-b78f-4b99-d108-956ad039fa0d"
      },
      "outputs": [],
      "source": [
        "from langchain_huggingface import HuggingFaceEndpoint\n",
        "\n",
        "# Define the repository ID for the Gemma 2b model\n",
        "repo_id = \"google/gemma-2b\"\n",
        "\n",
        "# Set up a Hugging Face Endpoint for Gemma 2b model\n",
        "llm = HuggingFaceEndpoint(\n",
        "    repo_id=repo_id, temperature=0.01, huggingfacehub_api_token=os.environ['HUGGINGFACE_HUB_API_KEY']\n",
        ")"
      ]
    },
    {
      "cell_type": "code",
      "execution_count": 50,
      "metadata": {
        "id": "Py_c2BVOjMIw"
      },
      "outputs": [],
      "source": [
        "from langchain.prompts import PromptTemplate\n",
        "\n",
        "template = \"\"\"Answer the question in one line using the following information:\n",
        "\n",
        "```{information}```.\n",
        "\n",
        "\n",
        "*** Question ***\n",
        "\n",
        "{question}\n",
        "\n",
        "*** Answer ***\"\"\"\n",
        "\n",
        "prompt = PromptTemplate.from_template(template=template)"
      ]
    },
    {
      "cell_type": "code",
      "execution_count": 51,
      "metadata": {},
      "outputs": [
        {
          "data": {
            "text/plain": [
              "\"what is dhoni's date of birth\""
            ]
          },
          "execution_count": 51,
          "metadata": {},
          "output_type": "execute_result"
        }
      ],
      "source": [
        "question"
      ]
    },
    {
      "cell_type": "code",
      "execution_count": 52,
      "metadata": {},
      "outputs": [
        {
          "data": {
            "text/plain": [
              "'rank of Lieutenant colonel in the Parachute Regiment of the Indian Territorial Army which was presented to him by the Indian Army in 2011. He is one of the most popular cricketers in the world.\\n\\nEarly life\\nDhoni was born on 7 July 1981 in Ranchi, Bihar (now in Jharkhand) in a Hindu Rajput family toDhoni\" redirects here. For other uses, see Dhoni (disambiguation).\\nLieutenant colonel\\nMahendra Singh Dhoni\\n\\nDhoni in 2023\\nPersonal details\\nBorn\\t7 July 1981 (age 43)\\nRanchi, Bihar (present-day Jharkhand), India\\nHeight\\t5 ft 9 in (175 cm)[1]\\nSpouse\\tSakshi Dhoni\\nAwards\\t\\n Padma Bhushan (2018)\\n Padma Shri2010, 2016 and was a member of the title winning squad in 2018.\\n\\nBorn in Ranchi, Dhoni made his first class debut for Bihar in 1999. He made his debut for the Indian cricket team on 23 December 2004 in an ODI against Bangladesh and played his first test a year later against Sri Lanka. In 2007, hecricket on 15 August 2020 as he had not played any international cricket since India\\'s loss in the 2019 world cup semi-final.[117]\\n\\nDomestic career\\nDhoni played for Bihar state cricket team since 1999 before representing Jharkhand later. He has also played for Rajasthan Cricket Association'"
            ]
          },
          "execution_count": 52,
          "metadata": {},
          "output_type": "execute_result"
        }
      ],
      "source": [
        "relevant_text"
      ]
    },
    {
      "cell_type": "code",
      "execution_count": 53,
      "metadata": {},
      "outputs": [],
      "source": [
        "prompt_formatted_str: str = prompt.format(question=question, information=relevant_text)"
      ]
    },
    {
      "cell_type": "code",
      "execution_count": 54,
      "metadata": {},
      "outputs": [
        {
          "data": {
            "text/plain": [
              "'Answer the question in one line using the following information:\\n\\n```rank of Lieutenant colonel in the Parachute Regiment of the Indian Territorial Army which was presented to him by the Indian Army in 2011. He is one of the most popular cricketers in the world.\\n\\nEarly life\\nDhoni was born on 7 July 1981 in Ranchi, Bihar (now in Jharkhand) in a Hindu Rajput family toDhoni\" redirects here. For other uses, see Dhoni (disambiguation).\\nLieutenant colonel\\nMahendra Singh Dhoni\\n\\nDhoni in 2023\\nPersonal details\\nBorn\\t7 July 1981 (age 43)\\nRanchi, Bihar (present-day Jharkhand), India\\nHeight\\t5 ft 9 in (175 cm)[1]\\nSpouse\\tSakshi Dhoni\\nAwards\\t\\n Padma Bhushan (2018)\\n Padma Shri2010, 2016 and was a member of the title winning squad in 2018.\\n\\nBorn in Ranchi, Dhoni made his first class debut for Bihar in 1999. He made his debut for the Indian cricket team on 23 December 2004 in an ODI against Bangladesh and played his first test a year later against Sri Lanka. In 2007, hecricket on 15 August 2020 as he had not played any international cricket since India\\'s loss in the 2019 world cup semi-final.[117]\\n\\nDomestic career\\nDhoni played for Bihar state cricket team since 1999 before representing Jharkhand later. He has also played for Rajasthan Cricket Association```.\\n\\n\\n*** Question ***\\n\\nwhat is dhoni\\'s date of birth\\n\\n*** Answer ***'"
            ]
          },
          "execution_count": 54,
          "metadata": {},
          "output_type": "execute_result"
        }
      ],
      "source": [
        "prompt_formatted_str"
      ]
    },
    {
      "cell_type": "code",
      "execution_count": 56,
      "metadata": {
        "colab": {
          "base_uri": "https://localhost:8080/",
          "height": 35
        },
        "id": "E3uP7Jsqp5K6",
        "outputId": "ab3b3b9f-a5e7-44b1-e1de-59821867ae63"
      },
      "outputs": [
        {
          "data": {
            "text/plain": [
              "'7 July 1981'"
            ]
          },
          "execution_count": 56,
          "metadata": {},
          "output_type": "execute_result"
        }
      ],
      "source": [
        "response = llm.invoke(prompt_formatted_str)\n",
        "response.strip()"
      ]
    }
  ],
  "metadata": {
    "accelerator": "GPU",
    "colab": {
      "authorship_tag": "ABX9TyM3q3EcQWDgferRMSplC/2a",
      "gpuType": "T4",
      "include_colab_link": true,
      "provenance": []
    },
    "kernelspec": {
      "display_name": ".venv",
      "language": "python",
      "name": "python3"
    },
    "language_info": {
      "codemirror_mode": {
        "name": "ipython",
        "version": 3
      },
      "file_extension": ".py",
      "mimetype": "text/x-python",
      "name": "python",
      "nbconvert_exporter": "python",
      "pygments_lexer": "ipython3",
      "version": "3.9.6"
    }
  },
  "nbformat": 4,
  "nbformat_minor": 0
}
