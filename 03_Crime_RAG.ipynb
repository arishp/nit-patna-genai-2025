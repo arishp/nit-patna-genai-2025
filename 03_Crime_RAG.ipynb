{
 "cells": [
  {
   "cell_type": "code",
   "execution_count": 77,
   "metadata": {},
   "outputs": [
    {
     "data": {
      "text/plain": [
       "True"
      ]
     },
     "execution_count": 77,
     "metadata": {},
     "output_type": "execute_result"
    }
   ],
   "source": [
    "from dotenv import load_dotenv\n",
    "load_dotenv()"
   ]
  },
  {
   "cell_type": "code",
   "execution_count": 4,
   "metadata": {},
   "outputs": [
    {
     "data": {
      "text/html": [
       "<div>\n",
       "<style scoped>\n",
       "    .dataframe tbody tr th:only-of-type {\n",
       "        vertical-align: middle;\n",
       "    }\n",
       "\n",
       "    .dataframe tbody tr th {\n",
       "        vertical-align: top;\n",
       "    }\n",
       "\n",
       "    .dataframe thead th {\n",
       "        text-align: right;\n",
       "    }\n",
       "</style>\n",
       "<table border=\"1\" class=\"dataframe\">\n",
       "  <thead>\n",
       "    <tr style=\"text-align: right;\">\n",
       "      <th></th>\n",
       "      <th>STATE/UT</th>\n",
       "      <th>DISTRICT</th>\n",
       "      <th>YEAR</th>\n",
       "      <th>MURDER</th>\n",
       "      <th>ATTEMPT TO MURDER</th>\n",
       "      <th>CULPABLE HOMICIDE NOT AMOUNTING TO MURDER</th>\n",
       "      <th>RAPE</th>\n",
       "      <th>CUSTODIAL RAPE</th>\n",
       "      <th>OTHER RAPE</th>\n",
       "      <th>KIDNAPPING &amp; ABDUCTION</th>\n",
       "      <th>...</th>\n",
       "      <th>ARSON</th>\n",
       "      <th>HURT/GREVIOUS HURT</th>\n",
       "      <th>DOWRY DEATHS</th>\n",
       "      <th>ASSAULT ON WOMEN WITH INTENT TO OUTRAGE HER MODESTY</th>\n",
       "      <th>INSULT TO MODESTY OF WOMEN</th>\n",
       "      <th>CRUELTY BY HUSBAND OR HIS RELATIVES</th>\n",
       "      <th>IMPORTATION OF GIRLS FROM FOREIGN COUNTRIES</th>\n",
       "      <th>CAUSING DEATH BY NEGLIGENCE</th>\n",
       "      <th>OTHER IPC CRIMES</th>\n",
       "      <th>TOTAL IPC CRIMES</th>\n",
       "    </tr>\n",
       "  </thead>\n",
       "  <tbody>\n",
       "    <tr>\n",
       "      <th>0</th>\n",
       "      <td>ANDHRA PRADESH</td>\n",
       "      <td>ADILABAD</td>\n",
       "      <td>2001</td>\n",
       "      <td>101</td>\n",
       "      <td>60</td>\n",
       "      <td>17</td>\n",
       "      <td>50</td>\n",
       "      <td>0</td>\n",
       "      <td>50</td>\n",
       "      <td>46</td>\n",
       "      <td>...</td>\n",
       "      <td>30</td>\n",
       "      <td>1131</td>\n",
       "      <td>16</td>\n",
       "      <td>149</td>\n",
       "      <td>34</td>\n",
       "      <td>175</td>\n",
       "      <td>0</td>\n",
       "      <td>181</td>\n",
       "      <td>1518</td>\n",
       "      <td>4154</td>\n",
       "    </tr>\n",
       "    <tr>\n",
       "      <th>1</th>\n",
       "      <td>ANDHRA PRADESH</td>\n",
       "      <td>ANANTAPUR</td>\n",
       "      <td>2001</td>\n",
       "      <td>151</td>\n",
       "      <td>125</td>\n",
       "      <td>1</td>\n",
       "      <td>23</td>\n",
       "      <td>0</td>\n",
       "      <td>23</td>\n",
       "      <td>53</td>\n",
       "      <td>...</td>\n",
       "      <td>69</td>\n",
       "      <td>1543</td>\n",
       "      <td>7</td>\n",
       "      <td>118</td>\n",
       "      <td>24</td>\n",
       "      <td>154</td>\n",
       "      <td>0</td>\n",
       "      <td>270</td>\n",
       "      <td>754</td>\n",
       "      <td>4125</td>\n",
       "    </tr>\n",
       "    <tr>\n",
       "      <th>2</th>\n",
       "      <td>ANDHRA PRADESH</td>\n",
       "      <td>CHITTOOR</td>\n",
       "      <td>2001</td>\n",
       "      <td>101</td>\n",
       "      <td>57</td>\n",
       "      <td>2</td>\n",
       "      <td>27</td>\n",
       "      <td>0</td>\n",
       "      <td>27</td>\n",
       "      <td>59</td>\n",
       "      <td>...</td>\n",
       "      <td>38</td>\n",
       "      <td>2088</td>\n",
       "      <td>14</td>\n",
       "      <td>112</td>\n",
       "      <td>83</td>\n",
       "      <td>186</td>\n",
       "      <td>0</td>\n",
       "      <td>404</td>\n",
       "      <td>1262</td>\n",
       "      <td>5818</td>\n",
       "    </tr>\n",
       "    <tr>\n",
       "      <th>3</th>\n",
       "      <td>ANDHRA PRADESH</td>\n",
       "      <td>CUDDAPAH</td>\n",
       "      <td>2001</td>\n",
       "      <td>80</td>\n",
       "      <td>53</td>\n",
       "      <td>1</td>\n",
       "      <td>20</td>\n",
       "      <td>0</td>\n",
       "      <td>20</td>\n",
       "      <td>25</td>\n",
       "      <td>...</td>\n",
       "      <td>23</td>\n",
       "      <td>795</td>\n",
       "      <td>17</td>\n",
       "      <td>126</td>\n",
       "      <td>38</td>\n",
       "      <td>57</td>\n",
       "      <td>0</td>\n",
       "      <td>233</td>\n",
       "      <td>1181</td>\n",
       "      <td>3140</td>\n",
       "    </tr>\n",
       "    <tr>\n",
       "      <th>4</th>\n",
       "      <td>ANDHRA PRADESH</td>\n",
       "      <td>EAST GODAVARI</td>\n",
       "      <td>2001</td>\n",
       "      <td>82</td>\n",
       "      <td>67</td>\n",
       "      <td>1</td>\n",
       "      <td>23</td>\n",
       "      <td>0</td>\n",
       "      <td>23</td>\n",
       "      <td>49</td>\n",
       "      <td>...</td>\n",
       "      <td>41</td>\n",
       "      <td>1244</td>\n",
       "      <td>12</td>\n",
       "      <td>109</td>\n",
       "      <td>58</td>\n",
       "      <td>247</td>\n",
       "      <td>0</td>\n",
       "      <td>431</td>\n",
       "      <td>2313</td>\n",
       "      <td>6507</td>\n",
       "    </tr>\n",
       "  </tbody>\n",
       "</table>\n",
       "<p>5 rows × 33 columns</p>\n",
       "</div>"
      ],
      "text/plain": [
       "         STATE/UT       DISTRICT  YEAR  MURDER  ATTEMPT TO MURDER  \\\n",
       "0  ANDHRA PRADESH       ADILABAD  2001     101                 60   \n",
       "1  ANDHRA PRADESH      ANANTAPUR  2001     151                125   \n",
       "2  ANDHRA PRADESH       CHITTOOR  2001     101                 57   \n",
       "3  ANDHRA PRADESH       CUDDAPAH  2001      80                 53   \n",
       "4  ANDHRA PRADESH  EAST GODAVARI  2001      82                 67   \n",
       "\n",
       "   CULPABLE HOMICIDE NOT AMOUNTING TO MURDER  RAPE  CUSTODIAL RAPE  \\\n",
       "0                                         17    50               0   \n",
       "1                                          1    23               0   \n",
       "2                                          2    27               0   \n",
       "3                                          1    20               0   \n",
       "4                                          1    23               0   \n",
       "\n",
       "   OTHER RAPE  KIDNAPPING & ABDUCTION  ...  ARSON  HURT/GREVIOUS HURT  \\\n",
       "0          50                      46  ...     30                1131   \n",
       "1          23                      53  ...     69                1543   \n",
       "2          27                      59  ...     38                2088   \n",
       "3          20                      25  ...     23                 795   \n",
       "4          23                      49  ...     41                1244   \n",
       "\n",
       "   DOWRY DEATHS  ASSAULT ON WOMEN WITH INTENT TO OUTRAGE HER MODESTY  \\\n",
       "0            16                                                149     \n",
       "1             7                                                118     \n",
       "2            14                                                112     \n",
       "3            17                                                126     \n",
       "4            12                                                109     \n",
       "\n",
       "   INSULT TO MODESTY OF WOMEN  CRUELTY BY HUSBAND OR HIS RELATIVES  \\\n",
       "0                          34                                  175   \n",
       "1                          24                                  154   \n",
       "2                          83                                  186   \n",
       "3                          38                                   57   \n",
       "4                          58                                  247   \n",
       "\n",
       "   IMPORTATION OF GIRLS FROM FOREIGN COUNTRIES  CAUSING DEATH BY NEGLIGENCE  \\\n",
       "0                                            0                          181   \n",
       "1                                            0                          270   \n",
       "2                                            0                          404   \n",
       "3                                            0                          233   \n",
       "4                                            0                          431   \n",
       "\n",
       "   OTHER IPC CRIMES  TOTAL IPC CRIMES  \n",
       "0              1518              4154  \n",
       "1               754              4125  \n",
       "2              1262              5818  \n",
       "3              1181              3140  \n",
       "4              2313              6507  \n",
       "\n",
       "[5 rows x 33 columns]"
      ]
     },
     "execution_count": 4,
     "metadata": {},
     "output_type": "execute_result"
    }
   ],
   "source": [
    "import pandas as pd\n",
    "\n",
    "file_path = ('01_District_wise_crimes_committed_IPC_2001_2012.csv') # insert the path of the csv file\n",
    "data = pd.read_csv(file_path)\n",
    "\n",
    "#preview the csv file\n",
    "data.head()"
   ]
  },
  {
   "cell_type": "code",
   "execution_count": 5,
   "metadata": {},
   "outputs": [],
   "source": [
    "from langchain_community.document_loaders.csv_loader import CSVLoader\n",
    "loader = CSVLoader(file_path=file_path)\n",
    "doc_splits = loader.load_and_split()"
   ]
  },
  {
   "cell_type": "code",
   "execution_count": 6,
   "metadata": {},
   "outputs": [
    {
     "name": "stderr",
     "output_type": "stream",
     "text": [
      "/Users/apitchai002/Documents/Clones/crraimscs-genai-2025/.venv/lib/python3.9/site-packages/tqdm/auto.py:21: TqdmWarning: IProgress not found. Please update jupyter and ipywidgets. See https://ipywidgets.readthedocs.io/en/stable/user_install.html\n",
      "  from .autonotebook import tqdm as notebook_tqdm\n"
     ]
    }
   ],
   "source": [
    "from langchain_community.vectorstores import Chroma\n",
    "from langchain_google_genai import GoogleGenerativeAIEmbeddings\n",
    "\n",
    "vectorstore = Chroma.from_documents(\n",
    "    documents=doc_splits,\n",
    "    collection_name=\"rag-chroma\",\n",
    "    embedding=GoogleGenerativeAIEmbeddings(model='models/embedding-001'),\n",
    "    persist_directory=\"chroma_vdb\"\n",
    ")"
   ]
  },
  {
   "cell_type": "code",
   "execution_count": 7,
   "metadata": {},
   "outputs": [],
   "source": [
    "retriever = vectorstore.as_retriever()"
   ]
  },
  {
   "cell_type": "code",
   "execution_count": 8,
   "metadata": {},
   "outputs": [],
   "source": [
    "from langchain.tools.retriever import create_retriever_tool\n",
    "\n",
    "retriever_tool = create_retriever_tool(\n",
    "    retriever,\n",
    "    \"retrieve_csv_file\",\n",
    "    \"Search and return information about crimes from the csv files.\",\n",
    ")"
   ]
  },
  {
   "cell_type": "code",
   "execution_count": 80,
   "metadata": {},
   "outputs": [
    {
     "data": {
      "text/plain": [
       "[{'url': 'https://www.tennis365.com/tennis-features/wimbledon-what-happened-the-two-previous-times-novak-djokovic-received-a-walkover-at-grand-slams',\n",
       "  'content': \"Novak Djokovic received a walkover at a Grand Slam tournament for the third time in his career when Alex de Minaur withdrew ahead of the pair's Wimbledon quarter-final. World No 9 de Minaur suffered a hip injury near the end of his four-set last 16 victory against Arthur Fils and pulled out on the day of his match with Djokovic.\"},\n",
       " {'url': 'https://www.thetennisgazette.com/features/i-beat-roger-federer-in-his-last-ever-match-at-wimbledon-and-now-ive-won-eight-atp-titles/',\n",
       "  'content': 'What happened to Hubert Hurkacz after beating Roger Federer at Wimbledon? After scoring the biggest win of his career at Wimbledon, Hurkacz established himself as a top-ten talent on the ATP Tour. The Pole finished the year ninth, tenth, and ninth again from 2021-2023, before regressing slightly in 2024 as he currently sits ranked 16th in the'},\n",
       " {'url': 'https://www.nbcnews.com/news/sports/andy-murray-wimbledon-tennis-singles-draw-rcna159912',\n",
       "  'content': 'Successive operations allowed him, against the odds, to return to elite tennis, and he reached the third round of Wimbledon in 2021. A third-round match at the Australian Open last year lasted 5'},\n",
       " {'url': 'https://www.independent.co.uk/topic/wimbledon',\n",
       "  'content': 'Wimbledon going to court to seek resolution over controversial expansion plans. Olympics. Fans and feelgood factor return as Paris puts on spectacular summer of sport. Olympics.'},\n",
       " {'url': 'https://apnews.com/article/wimbledon-7-8-2024-results-3c7e7a4f5bddc68de394b9102160df1a',\n",
       "  'content': \"LONDON (AP) — After Taylor Fritz deposited a backhand that Alexander Zverev didn't even chase, wrapping up the American's comeback from a two-set hole in Wimbledon's fourth round Monday, the men met at the net for what turned into a longer-than-usual chat.. Zverev, playing with a bone bruise in his right knee, said he was bothered by some of the cheering coming from Fritz's guest box\"}]"
      ]
     },
     "execution_count": 80,
     "metadata": {},
     "output_type": "execute_result"
    }
   ],
   "source": [
    "from langchain_community.tools import TavilySearchResults\n",
    "\n",
    "internet_search_tool = TavilySearchResults(\n",
    "    max_results=5,\n",
    "    search_depth=\"advanced\",\n",
    "    include_answer=True,\n",
    "    include_raw_content=True,\n",
    "    include_images=True,\n",
    "    \n",
    ")\n",
    "internet_search_tool.invoke({\"query\": \"What happened at the last wimbledon\"})"
   ]
  },
  {
   "cell_type": "code",
   "execution_count": 97,
   "metadata": {},
   "outputs": [],
   "source": [
    "from typing import Annotated, Sequence\n",
    "from typing_extensions import TypedDict\n",
    "from langchain_core.messages import BaseMessage\n",
    "from langgraph.graph.message import add_messages\n",
    "\n",
    "class AgentState(TypedDict):\n",
    "    # The add_messages function defines how an update should be processed\n",
    "    # Default is to replace. add_messages says \"append\"\n",
    "    messages: Annotated[Sequence[BaseMessage], add_messages]"
   ]
  },
  {
   "cell_type": "code",
   "execution_count": 98,
   "metadata": {},
   "outputs": [],
   "source": [
    "from langchain_google_genai import ChatGoogleGenerativeAI\n",
    "\n",
    "def agent(state):\n",
    "    \"\"\"\n",
    "    Invokes the agent model to generate a response based on the current state. Given\n",
    "    the question, it will decide to retrieve using the retriever tool.\n",
    "\n",
    "    Args:\n",
    "        state (messages): The current state\n",
    "\n",
    "    Returns:\n",
    "        dict: The updated state with the agent response appended to messages\n",
    "    \"\"\"\n",
    "    print(\"---CALL AGENT---\")\n",
    "    messages = state[\"messages\"]\n",
    "    model = ChatGoogleGenerativeAI(temperature=0.5, model=\"gemini-2.0-flash-exp\", streaming=True)\n",
    "    tools = [retriever_tool]\n",
    "    model_with_tools = model.bind_tools(tools)\n",
    "    response = model_with_tools.invoke(messages)\n",
    "    # We return a list, because this will get added to the existing list\n",
    "    return {\"messages\": [response]}"
   ]
  },
  {
   "cell_type": "code",
   "execution_count": 99,
   "metadata": {},
   "outputs": [],
   "source": [
    "from typing import Literal\n",
    "from langchain_core.prompts import PromptTemplate\n",
    "from pydantic import BaseModel, Field\n",
    "\n",
    "def grade_documents(state) -> Literal[\"generate\", \"redo\"]:\n",
    "    \"\"\"\n",
    "    Determines whether the retrieved documents are relevant to the question.\n",
    "\n",
    "    Args:\n",
    "        state (messages): The current state\n",
    "\n",
    "    Returns:\n",
    "        str: A decision for whether the documents are relevant or not\n",
    "    \"\"\"\n",
    "    print(\"---CHECK RELEVANCE---\")\n",
    "    # Data model\n",
    "    class grade(BaseModel):\n",
    "        \"\"\"Binary score for relevance check.\"\"\"\n",
    "        binary_score: str = Field(description=\"Relevance score 'yes' or 'no'\")\n",
    "    # LLM\n",
    "    model = ChatGoogleGenerativeAI(temperature=0.5, model=\"gemini-2.0-flash-exp\", streaming=True)\n",
    "    # LLM with structured output for validation\n",
    "    structured_llm = model.with_structured_output(grade)\n",
    "    # Prompt\n",
    "    prompt = PromptTemplate(\n",
    "        template=\"\"\"You are a grader assessing relevance of a retrieved document to a user question. \\n \n",
    "        Here is the retrieved document: \\n\\n {context} \\n\\n\n",
    "        Here is the user question: {question} \\n\n",
    "        If the document contains keyword(s) or semantic meaning related to the user question, grade it as relevant. \\n\n",
    "        Give a binary score 'yes' or 'no' score to indicate whether the document is relevant to the question.\"\"\",\n",
    "        input_variables=[\"context\", \"question\"],\n",
    "    )\n",
    "    # Chain\n",
    "    chain = prompt | structured_llm\n",
    "    messages = state[\"messages\"]\n",
    "    last_message = messages[-1]\n",
    "    question = messages[0].content\n",
    "    docs = last_message.content\n",
    "    scored_result = chain.invoke({\"question\": question, \"context\": docs})\n",
    "    score = scored_result.binary_score\n",
    "    if score == \"yes\":\n",
    "        print(\"---DECISION: DOCS RELEVANT---\")\n",
    "        return \"generate\"\n",
    "    else:\n",
    "        print(\"---DECISION: DOCS NOT RELEVANT---\")\n",
    "        print(score)\n",
    "        return \"redo\""
   ]
  },
  {
   "cell_type": "code",
   "execution_count": 100,
   "metadata": {},
   "outputs": [],
   "source": [
    "from langchain_google_genai import ChatGoogleGenerativeAI\n",
    "\n",
    "def redo(state):\n",
    "    \"\"\"\n",
    "    Invokes the agent model to generate a response based on the current state. Given\n",
    "    the question, it will decide to retrieve using the internet search tool.\n",
    "\n",
    "    Args:\n",
    "        state (messages): The current state\n",
    "\n",
    "    Returns:\n",
    "        dict: The updated state with the agent response appended to messages\n",
    "    \"\"\"\n",
    "    print(\"---CALL AGENT---\")\n",
    "    messages = state[\"messages\"]\n",
    "    question = messages[0].content\n",
    "    model = ChatGoogleGenerativeAI(temperature=0.5, model=\"gemini-2.0-flash-exp\", streaming=True)\n",
    "    tools = [internet_search_tool]\n",
    "    model_with_tools = model.bind_tools(tools)\n",
    "    response = model_with_tools.invoke(question)\n",
    "    # We return a list, because this will get added to the existing list\n",
    "    return {\"messages\": [response]}"
   ]
  },
  {
   "cell_type": "code",
   "execution_count": 101,
   "metadata": {},
   "outputs": [],
   "source": [
    "from langchain import hub\n",
    "from langchain_core.output_parsers import StrOutputParser\n",
    "\n",
    "def generate(state):\n",
    "    \"\"\"\n",
    "    Generate answer\n",
    "\n",
    "    Args:\n",
    "        state (messages): The current state\n",
    "\n",
    "    Returns:\n",
    "         dict: The updated state with answer to the question\n",
    "    \"\"\"\n",
    "    print(\"---GENERATE---\")\n",
    "    messages = state[\"messages\"]\n",
    "    question = messages[0].content\n",
    "    last_message = messages[-1]\n",
    "    docs = last_message.content\n",
    "    # Prompt\n",
    "    prompt = hub.pull(\"rlm/rag-prompt\")\n",
    "    # LLM\n",
    "    llm = ChatGoogleGenerativeAI(temperature=0.5, model=\"gemini-2.0-flash-exp\", streaming=True)\n",
    "    # # Post-processing\n",
    "    # def format_docs(docs):\n",
    "    #     return \"\\n\\n\".join(doc.page_content for doc in docs)\n",
    "    # Chain\n",
    "    rag_chain = prompt | llm | StrOutputParser()\n",
    "    # Run\n",
    "    response = rag_chain.invoke({\"context\": docs, \"question\": question})\n",
    "    return {\"messages\": [response]}"
   ]
  },
  {
   "cell_type": "code",
   "execution_count": 102,
   "metadata": {},
   "outputs": [],
   "source": [
    "from langgraph.graph import END, StateGraph, START\n",
    "from langgraph.prebuilt import ToolNode\n",
    "from langgraph.prebuilt import tools_condition\n",
    "\n",
    "# Define a new graph\n",
    "workflow = StateGraph(AgentState)"
   ]
  },
  {
   "cell_type": "code",
   "execution_count": 103,
   "metadata": {},
   "outputs": [
    {
     "data": {
      "text/plain": [
       "<langgraph.graph.state.StateGraph at 0x148a9ab20>"
      ]
     },
     "execution_count": 103,
     "metadata": {},
     "output_type": "execute_result"
    }
   ],
   "source": [
    "# Define the nodes we will cycle between\n",
    "workflow.add_node(\"agent\", agent)  # agent\n",
    "retrieve = ToolNode([retriever_tool])\n",
    "workflow.add_node(\"retrieve\", retrieve)  # retrieval\n",
    "workflow.add_node(\"redo\", redo)  # searching the internet\n",
    "search = ToolNode([internet_search_tool])\n",
    "workflow.add_node(\"search\", search)\n",
    "workflow.add_node(\"generate\", generate)  # Generating a response after we know the documents are relevant\n",
    "workflow.add_edge(START, \"agent\")"
   ]
  },
  {
   "cell_type": "code",
   "execution_count": 104,
   "metadata": {},
   "outputs": [
    {
     "data": {
      "text/plain": [
       "<langgraph.graph.state.StateGraph at 0x148a9ab20>"
      ]
     },
     "execution_count": 104,
     "metadata": {},
     "output_type": "execute_result"
    }
   ],
   "source": [
    "# Decide whether to retrieve\n",
    "workflow.add_conditional_edges(\n",
    "    \"agent\",\n",
    "    # Assess agent decision\n",
    "    tools_condition,\n",
    "    {\n",
    "        # Translate the condition outputs to nodes in our graph\n",
    "        \"tools\": \"retrieve\",\n",
    "        END: END,\n",
    "    },\n",
    ")\n",
    "\n",
    "# Edges taken after the `action` node is called.\n",
    "workflow.add_conditional_edges(\n",
    "    \"retrieve\",\n",
    "    # Assess agent decision\n",
    "    grade_documents,\n",
    ")"
   ]
  },
  {
   "cell_type": "code",
   "execution_count": 105,
   "metadata": {},
   "outputs": [
    {
     "data": {
      "text/plain": [
       "<langgraph.graph.state.StateGraph at 0x148a9ab20>"
      ]
     },
     "execution_count": 105,
     "metadata": {},
     "output_type": "execute_result"
    }
   ],
   "source": [
    "# Decide whether to search internet\n",
    "workflow.add_conditional_edges(\n",
    "    \"redo\",\n",
    "    # Assess redo agent decision\n",
    "    tools_condition,\n",
    "    {\n",
    "        # Translate the condition outputs to nodes in our graph\n",
    "        \"tools\": \"search\",\n",
    "        END: END,\n",
    "    },\n",
    ")"
   ]
  },
  {
   "cell_type": "code",
   "execution_count": 106,
   "metadata": {},
   "outputs": [],
   "source": [
    "workflow.add_edge(\"generate\", END)\n",
    "workflow.add_edge(\"search\", \"generate\")\n",
    "\n",
    "# Compile\n",
    "graph = workflow.compile()"
   ]
  },
  {
   "cell_type": "code",
   "execution_count": 107,
   "metadata": {},
   "outputs": [
    {
     "data": {
      "image/png": "[encoded data removed]",
      "text/plain": [
       "<IPython.core.display.Image object>"
      ]
     },
     "metadata": {},
     "output_type": "display_data"
    }
   ],
   "source": [
    "from IPython.display import Image, display\n",
    "\n",
    "try:\n",
    "    display(Image(graph.get_graph(xray=True).draw_mermaid_png()))\n",
    "except Exception:\n",
    "    # This requires some extra dependencies and is optional\n",
    "    pass"
   ]
  },
  {
   "cell_type": "code",
   "execution_count": 108,
   "metadata": {},
   "outputs": [],
   "source": [
    "import pprint\n",
    "\n",
    "inputs = {\n",
    "    \"messages\": [\n",
    "        (\"user\", \"How many murders happened in CHENNAI in 2001?\"),\n",
    "    ]\n",
    "}"
   ]
  },
  {
   "cell_type": "code",
   "execution_count": 109,
   "metadata": {},
   "outputs": [
    {
     "name": "stdout",
     "output_type": "stream",
     "text": [
      "---CALL AGENT---\n",
      "\"Output from node 'agent':\"\n",
      "'---'\n",
      "{ 'messages': [ AIMessage(content='', additional_kwargs={'function_call': {'name': 'retrieve_csv_file', 'arguments': '{\"query\": \"How many murders happened in CHENNAI in 2001\"}'}}, response_metadata={'prompt_feedback': {'block_reason': 0, 'safety_ratings': []}, 'finish_reason': 'STOP', 'safety_ratings': [{'category': 'HARM_CATEGORY_HATE_SPEECH', 'probability': 'NEGLIGIBLE', 'blocked': False}, {'category': 'HARM_CATEGORY_DANGEROUS_CONTENT', 'probability': 'NEGLIGIBLE', 'blocked': False}, {'category': 'HARM_CATEGORY_HARASSMENT', 'probability': 'NEGLIGIBLE', 'blocked': False}, {'category': 'HARM_CATEGORY_SEXUALLY_EXPLICIT', 'probability': 'NEGLIGIBLE', 'blocked': False}]}, id='run-8972a09c-a6d6-4a29-a488-810aa2129319-0', tool_calls=[{'name': 'retrieve_csv_file', 'args': {'query': 'How many murders happened in CHENNAI in 2001'}, 'id': '26aa2a52-52ea-4ce7-b753-5c4db194e447', 'type': 'tool_call'}], usage_metadata={'input_tokens': 66, 'output_tokens': 20, 'total_tokens': 86, 'input_token_details': {'cache_read': 0}})]}\n",
      "'\\n---\\n'\n",
      "---CHECK RELEVANCE---\n",
      "---DECISION: DOCS RELEVANT---\n",
      "\"Output from node 'retrieve':\"\n",
      "'---'\n",
      "{ 'messages': [ ToolMessage(content='STATE/UT: TAMIL NADU\\nDISTRICT: CHENNAI\\nYEAR: 2001\\nMURDER: 91\\nATTEMPT TO MURDER: 298\\nCULPABLE HOMICIDE NOT AMOUNTING TO MURDER: 0\\nRAPE: 28\\nCUSTODIAL RAPE: 0\\nOTHER RAPE: 28\\nKIDNAPPING & ABDUCTION: 40\\nKIDNAPPING AND ABDUCTION OF WOMEN AND GIRLS: 0\\nKIDNAPPING AND ABDUCTION OF OTHERS: 40\\nDACOITY: 12\\nPREPARATION AND ASSEMBLY FOR DACOITY: 0\\nROBBERY: 127\\nBURGLARY: 668\\nTHEFT: 2167\\nAUTO THEFT: 433\\nOTHER THEFT: 1734\\nRIOTS: 105\\nCRIMINAL BREACH OF TRUST: 26\\nCHEATING: 600\\nCOUNTERFIETING: 0\\nARSON: 0\\nHURT/GREVIOUS HURT: 813\\nDOWRY DEATHS: 13\\nASSAULT ON WOMEN WITH INTENT TO OUTRAGE HER MODESTY: 70\\nINSULT TO MODESTY OF WOMEN: 209\\nCRUELTY BY HUSBAND OR HIS RELATIVES: 111\\nIMPORTATION OF GIRLS FROM FOREIGN COUNTRIES: 0\\nCAUSING DEATH BY NEGLIGENCE: 675\\nOTHER IPC CRIMES: 1239\\nTOTAL IPC CRIMES: 7292\\n\\nSTATE/UT: TAMIL NADU\\nDISTRICT: CHENNAI\\nYEAR: 2001\\nMURDER: 91\\nATTEMPT TO MURDER: 298\\nCULPABLE HOMICIDE NOT AMOUNTING TO MURDER: 0\\nRAPE: 28\\nCUSTODIAL RAPE: 0\\nOTHER RAPE: 28\\nKIDNAPPING & ABDUCTION: 40\\nKIDNAPPING AND ABDUCTION OF WOMEN AND GIRLS: 0\\nKIDNAPPING AND ABDUCTION OF OTHERS: 40\\nDACOITY: 12\\nPREPARATION AND ASSEMBLY FOR DACOITY: 0\\nROBBERY: 127\\nBURGLARY: 668\\nTHEFT: 2167\\nAUTO THEFT: 433\\nOTHER THEFT: 1734\\nRIOTS: 105\\nCRIMINAL BREACH OF TRUST: 26\\nCHEATING: 600\\nCOUNTERFIETING: 0\\nARSON: 0\\nHURT/GREVIOUS HURT: 813\\nDOWRY DEATHS: 13\\nASSAULT ON WOMEN WITH INTENT TO OUTRAGE HER MODESTY: 70\\nINSULT TO MODESTY OF WOMEN: 209\\nCRUELTY BY HUSBAND OR HIS RELATIVES: 111\\nIMPORTATION OF GIRLS FROM FOREIGN COUNTRIES: 0\\nCAUSING DEATH BY NEGLIGENCE: 675\\nOTHER IPC CRIMES: 1239\\nTOTAL IPC CRIMES: 7292\\n\\nSTATE/UT: TAMIL NADU\\nDISTRICT: CHENNAI\\nYEAR: 2002\\nMURDER: 90\\nATTEMPT TO MURDER: 294\\nCULPABLE HOMICIDE NOT AMOUNTING TO MURDER: 5\\nRAPE: 26\\nCUSTODIAL RAPE: 0\\nOTHER RAPE: 26\\nKIDNAPPING & ABDUCTION: 44\\nKIDNAPPING AND ABDUCTION OF WOMEN AND GIRLS: 21\\nKIDNAPPING AND ABDUCTION OF OTHERS: 23\\nDACOITY: 14\\nPREPARATION AND ASSEMBLY FOR DACOITY: 0\\nROBBERY: 97\\nBURGLARY: 570\\nTHEFT: 2791\\nAUTO THEFT: 444\\nOTHER THEFT: 2347\\nRIOTS: 52\\nCRIMINAL BREACH OF TRUST: 13\\nCHEATING: 644\\nCOUNTERFIETING: 2\\nARSON: 0\\nHURT/GREVIOUS HURT: 812\\nDOWRY DEATHS: 20\\nASSAULT ON WOMEN WITH INTENT TO OUTRAGE HER MODESTY: 61\\nINSULT TO MODESTY OF WOMEN: 941\\nCRUELTY BY HUSBAND OR HIS RELATIVES: 106\\nIMPORTATION OF GIRLS FROM FOREIGN COUNTRIES: 0\\nCAUSING DEATH BY NEGLIGENCE: 485\\nOTHER IPC CRIMES: 1459\\nTOTAL IPC CRIMES: 8526\\n\\nSTATE/UT: TAMIL NADU\\nDISTRICT: CHENNAI\\nYEAR: 2002\\nMURDER: 90\\nATTEMPT TO MURDER: 294\\nCULPABLE HOMICIDE NOT AMOUNTING TO MURDER: 5\\nRAPE: 26\\nCUSTODIAL RAPE: 0\\nOTHER RAPE: 26\\nKIDNAPPING & ABDUCTION: 44\\nKIDNAPPING AND ABDUCTION OF WOMEN AND GIRLS: 21\\nKIDNAPPING AND ABDUCTION OF OTHERS: 23\\nDACOITY: 14\\nPREPARATION AND ASSEMBLY FOR DACOITY: 0\\nROBBERY: 97\\nBURGLARY: 570\\nTHEFT: 2791\\nAUTO THEFT: 444\\nOTHER THEFT: 2347\\nRIOTS: 52\\nCRIMINAL BREACH OF TRUST: 13\\nCHEATING: 644\\nCOUNTERFIETING: 2\\nARSON: 0\\nHURT/GREVIOUS HURT: 812\\nDOWRY DEATHS: 20\\nASSAULT ON WOMEN WITH INTENT TO OUTRAGE HER MODESTY: 61\\nINSULT TO MODESTY OF WOMEN: 941\\nCRUELTY BY HUSBAND OR HIS RELATIVES: 106\\nIMPORTATION OF GIRLS FROM FOREIGN COUNTRIES: 0\\nCAUSING DEATH BY NEGLIGENCE: 485\\nOTHER IPC CRIMES: 1459\\nTOTAL IPC CRIMES: 8526', name='retrieve_csv_file', id='17b8a3de-e8f7-40a4-9f1c-128ca98a3526', tool_call_id='26aa2a52-52ea-4ce7-b753-5c4db194e447')]}\n",
      "'\\n---\\n'\n",
      "---GENERATE---\n"
     ]
    },
    {
     "name": "stderr",
     "output_type": "stream",
     "text": [
      "/Users/apitchai002/Documents/Clones/crraimscs-genai-2025/.venv/lib/python3.9/site-packages/langsmith/client.py:256: LangSmithMissingAPIKeyWarning: API key must be provided when using hosted LangSmith API\n",
      "  warnings.warn(\n"
     ]
    },
    {
     "name": "stdout",
     "output_type": "stream",
     "text": [
      "\"Output from node 'generate':\"\n",
      "'---'\n",
      "{ 'messages': [ 'In 2001, there were 91 murders reported in Chennai. The data '\n",
      "                'shows that there were 91 murders in Chennai in 2001. This '\n",
      "                'information is based on the provided context.']}\n",
      "'\\n---\\n'\n"
     ]
    }
   ],
   "source": [
    "for output in graph.stream(inputs):\n",
    "    for key, value in output.items():\n",
    "        pprint.pprint(f\"Output from node '{key}':\")\n",
    "        pprint.pprint(\"---\")\n",
    "        pprint.pprint(value, indent=2, width=80, depth=None)\n",
    "    pprint.pprint(\"\\n---\\n\")"
   ]
  },
  {
   "cell_type": "code",
   "execution_count": 114,
   "metadata": {},
   "outputs": [],
   "source": [
    "inputs = {\n",
    "    \"messages\": [\n",
    "        (\"user\", \"Write about any crime happened in Chennai in 2024\"),\n",
    "    ]\n",
    "}"
   ]
  },
  {
   "cell_type": "code",
   "execution_count": 115,
   "metadata": {},
   "outputs": [
    {
     "name": "stdout",
     "output_type": "stream",
     "text": [
      "---CALL AGENT---\n",
      "\"Output from node 'agent':\"\n",
      "'---'\n",
      "{ 'messages': [ AIMessage(content='', additional_kwargs={'function_call': {'name': 'retrieve_csv_file', 'arguments': '{\"query\": \"crime in Chennai in 2024\"}'}}, response_metadata={'prompt_feedback': {'block_reason': 0, 'safety_ratings': []}, 'finish_reason': 'STOP', 'safety_ratings': [{'category': 'HARM_CATEGORY_HATE_SPEECH', 'probability': 'NEGLIGIBLE', 'blocked': False}, {'category': 'HARM_CATEGORY_DANGEROUS_CONTENT', 'probability': 'NEGLIGIBLE', 'blocked': False}, {'category': 'HARM_CATEGORY_HARASSMENT', 'probability': 'NEGLIGIBLE', 'blocked': False}, {'category': 'HARM_CATEGORY_SEXUALLY_EXPLICIT', 'probability': 'NEGLIGIBLE', 'blocked': False}]}, id='run-38f0876f-bfcd-400a-98f9-01e1aa0c91ad-0', tool_calls=[{'name': 'retrieve_csv_file', 'args': {'query': 'crime in Chennai in 2024'}, 'id': '9a853b27-d292-4a32-a12f-316d8ee36474', 'type': 'tool_call'}], usage_metadata={'input_tokens': 64, 'output_tokens': 15, 'total_tokens': 79, 'input_token_details': {'cache_read': 0}})]}\n",
      "'\\n---\\n'\n",
      "---CHECK RELEVANCE---\n",
      "---DECISION: DOCS NOT RELEVANT---\n",
      "no\n",
      "\"Output from node 'retrieve':\"\n",
      "'---'\n",
      "{ 'messages': [ ToolMessage(content='STATE/UT: TAMIL NADU\\nDISTRICT: CHENNAI\\nYEAR: 2012\\nMURDER: 180\\nATTEMPT TO MURDER: 219\\nCULPABLE HOMICIDE NOT AMOUNTING TO MURDER: 4\\nRAPE: 94\\nCUSTODIAL RAPE: 0\\nOTHER RAPE: 94\\nKIDNAPPING & ABDUCTION: 87\\nKIDNAPPING AND ABDUCTION OF WOMEN AND GIRLS: 65\\nKIDNAPPING AND ABDUCTION OF OTHERS: 22\\nDACOITY: 2\\nPREPARATION AND ASSEMBLY FOR DACOITY: 0\\nROBBERY: 85\\nBURGLARY: 546\\nTHEFT: 2169\\nAUTO THEFT: 263\\nOTHER THEFT: 1906\\nRIOTS: 95\\nCRIMINAL BREACH OF TRUST: 50\\nCHEATING: 769\\nCOUNTERFIETING: 137\\nARSON: 10\\nHURT/GREVIOUS HURT: 1412\\nDOWRY DEATHS: 12\\nASSAULT ON WOMEN WITH INTENT TO OUTRAGE HER MODESTY: 90\\nINSULT TO MODESTY OF WOMEN: 141\\nCRUELTY BY HUSBAND OR HIS RELATIVES: 237\\nIMPORTATION OF GIRLS FROM FOREIGN COUNTRIES: 0\\nCAUSING DEATH BY NEGLIGENCE: 1411\\nOTHER IPC CRIMES: 12131\\nTOTAL IPC CRIMES: 19881\\n\\nSTATE/UT: TAMIL NADU\\nDISTRICT: CHENNAI\\nYEAR: 2012\\nMURDER: 180\\nATTEMPT TO MURDER: 219\\nCULPABLE HOMICIDE NOT AMOUNTING TO MURDER: 4\\nRAPE: 94\\nCUSTODIAL RAPE: 0\\nOTHER RAPE: 94\\nKIDNAPPING & ABDUCTION: 87\\nKIDNAPPING AND ABDUCTION OF WOMEN AND GIRLS: 65\\nKIDNAPPING AND ABDUCTION OF OTHERS: 22\\nDACOITY: 2\\nPREPARATION AND ASSEMBLY FOR DACOITY: 0\\nROBBERY: 85\\nBURGLARY: 546\\nTHEFT: 2169\\nAUTO THEFT: 263\\nOTHER THEFT: 1906\\nRIOTS: 95\\nCRIMINAL BREACH OF TRUST: 50\\nCHEATING: 769\\nCOUNTERFIETING: 137\\nARSON: 10\\nHURT/GREVIOUS HURT: 1412\\nDOWRY DEATHS: 12\\nASSAULT ON WOMEN WITH INTENT TO OUTRAGE HER MODESTY: 90\\nINSULT TO MODESTY OF WOMEN: 141\\nCRUELTY BY HUSBAND OR HIS RELATIVES: 237\\nIMPORTATION OF GIRLS FROM FOREIGN COUNTRIES: 0\\nCAUSING DEATH BY NEGLIGENCE: 1411\\nOTHER IPC CRIMES: 12131\\nTOTAL IPC CRIMES: 19881\\n\\nSTATE/UT: TAMIL NADU\\nDISTRICT: CHENNAI\\nYEAR: 2006\\nMURDER: 131\\nATTEMPT TO MURDER: 193\\nCULPABLE HOMICIDE NOT AMOUNTING TO MURDER: 5\\nRAPE: 29\\nCUSTODIAL RAPE: 0\\nOTHER RAPE: 29\\nKIDNAPPING & ABDUCTION: 59\\nKIDNAPPING AND ABDUCTION OF WOMEN AND GIRLS: 41\\nKIDNAPPING AND ABDUCTION OF OTHERS: 18\\nDACOITY: 5\\nPREPARATION AND ASSEMBLY FOR DACOITY: 0\\nROBBERY: 58\\nBURGLARY: 560\\nTHEFT: 2363\\nAUTO THEFT: 351\\nOTHER THEFT: 2012\\nRIOTS: 130\\nCRIMINAL BREACH OF TRUST: 14\\nCHEATING: 535\\nCOUNTERFIETING: 14\\nARSON: 1\\nHURT/GREVIOUS HURT: 1198\\nDOWRY DEATHS: 32\\nASSAULT ON WOMEN WITH INTENT TO OUTRAGE HER MODESTY: 87\\nINSULT TO MODESTY OF WOMEN: 88\\nCRUELTY BY HUSBAND OR HIS RELATIVES: 213\\nIMPORTATION OF GIRLS FROM FOREIGN COUNTRIES: 0\\nCAUSING DEATH BY NEGLIGENCE: 1330\\nOTHER IPC CRIMES: 9123\\nTOTAL IPC CRIMES: 16168\\n\\nSTATE/UT: TAMIL NADU\\nDISTRICT: CHENNAI\\nYEAR: 2006\\nMURDER: 131\\nATTEMPT TO MURDER: 193\\nCULPABLE HOMICIDE NOT AMOUNTING TO MURDER: 5\\nRAPE: 29\\nCUSTODIAL RAPE: 0\\nOTHER RAPE: 29\\nKIDNAPPING & ABDUCTION: 59\\nKIDNAPPING AND ABDUCTION OF WOMEN AND GIRLS: 41\\nKIDNAPPING AND ABDUCTION OF OTHERS: 18\\nDACOITY: 5\\nPREPARATION AND ASSEMBLY FOR DACOITY: 0\\nROBBERY: 58\\nBURGLARY: 560\\nTHEFT: 2363\\nAUTO THEFT: 351\\nOTHER THEFT: 2012\\nRIOTS: 130\\nCRIMINAL BREACH OF TRUST: 14\\nCHEATING: 535\\nCOUNTERFIETING: 14\\nARSON: 1\\nHURT/GREVIOUS HURT: 1198\\nDOWRY DEATHS: 32\\nASSAULT ON WOMEN WITH INTENT TO OUTRAGE HER MODESTY: 87\\nINSULT TO MODESTY OF WOMEN: 88\\nCRUELTY BY HUSBAND OR HIS RELATIVES: 213\\nIMPORTATION OF GIRLS FROM FOREIGN COUNTRIES: 0\\nCAUSING DEATH BY NEGLIGENCE: 1330\\nOTHER IPC CRIMES: 9123\\nTOTAL IPC CRIMES: 16168', name='retrieve_csv_file', id='d950a1b0-17c1-40ae-9fdf-28fedbf0e65c', tool_call_id='9a853b27-d292-4a32-a12f-316d8ee36474')]}\n",
      "'\\n---\\n'\n",
      "---CALL AGENT---\n",
      "\"Output from node 'redo':\"\n",
      "'---'\n",
      "{ 'messages': [ AIMessage(content='', additional_kwargs={'function_call': {'name': 'tavily_search_results_json', 'arguments': '{\"query\": \"crime in Chennai 2024\"}'}}, response_metadata={'prompt_feedback': {'block_reason': 0, 'safety_ratings': []}, 'finish_reason': 'STOP', 'safety_ratings': [{'category': 'HARM_CATEGORY_HATE_SPEECH', 'probability': 'NEGLIGIBLE', 'blocked': False}, {'category': 'HARM_CATEGORY_DANGEROUS_CONTENT', 'probability': 'NEGLIGIBLE', 'blocked': False}, {'category': 'HARM_CATEGORY_HARASSMENT', 'probability': 'NEGLIGIBLE', 'blocked': False}, {'category': 'HARM_CATEGORY_SEXUALLY_EXPLICIT', 'probability': 'NEGLIGIBLE', 'blocked': False}]}, id='run-3b38e869-6e56-4cb8-81e2-e3332f02d583-0', tool_calls=[{'name': 'tavily_search_results_json', 'args': {'query': 'crime in Chennai 2024'}, 'id': 'b89eb3b3-6650-4139-a581-7d261c8a5ca3', 'type': 'tool_call'}], usage_metadata={'input_tokens': 87, 'output_tokens': 17, 'total_tokens': 104, 'input_token_details': {'cache_read': 0}})]}\n",
      "'\\n---\\n'\n",
      "\"Output from node 'search':\"\n",
      "'---'\n",
      "{ 'messages': [ ToolMessage(content='[{\"url\": \"https://www.dtnext.in/news/chennai/avadi-city-record-dip-in-incidents-of-crimes-in-2024-818042\", \"content\": \"CHENNAI: In a positive development, the Avadi Police Commissionerate has recorded a decline in the incidents of crimes reported in the year 2024 compared to the previous year 2023. According to a press note released by Avadi city police commissioner ADGP K Shankar, the number of murders has come down from 59 in 2023 to 48 in 2024.\"}, {\"url\": \"https://www.dtnext.in/news/chennai/impressive-reduction-of-crimes-in-avadi-police-commissionerate-in-2024-817957\", \"content\": \"CHENNAI: There has been a substantial decrease in the incidents of crimes in the Avadi Police Commissionerate in the year 2024 compared to the previous year, 2023. According to a press note released by Avadi commissioner, ADGP K Shankar incidents of murders have reduced by almost 20% in 2024. Similarly, there has been a substantial reduction in the cases of murder for gain, attempt to murder\"}, {\"url\": \"https://timesofindia.indiatimes.com/topic/chennai-crime\", \"content\": \"Chennai Crime: Latest News, Videos and Photos of Chennai Crime | Times of India Chennai rape case: Rapist knew layout of Anna University campus well & entered at will TNN / Dec 27, 2024, 07:12 (IST) Gnanasekaran, a man with three wives and a history of criminal activities, was arrested for raping an engineering student on the Anna University campus, where his wife works. Chennai: Rape accused knew Anna University campus well TNN / Dec 27, 2024, 07:01 (IST) Gnanasekaran, recently arrested for raping an engineering student at Anna University, is a repeat offender with a history of convictions and pending cases.\"}, {\"url\": \"https://www.numbeo.com/crime/in/Chennai\", \"content\": \"Crime rates in Chennai, India. Level of crime: 39.01: Low: Crime increasing in the past 5 years: 54.02: Moderate: Worries home broken and things stolen: 41.55: Moderate: Worries being mugged or robbed: ... Anonymous on Oct 26, 2024: Pretty safe but still need to be a little aware on corruption.\"}, {\"url\": \"https://www.newindianexpress.com/cities/chennai/2024/Feb/04/dip-in-major-crimes-in-city-says-chennai-police-commissioner\", \"content\": \"CHENNAI: City police commissioner Sandeep Rai Rathore has said that major crimes like murder for gain, robbery, burglary and snatching have reduced drastically ... 04 Feb 2024, 4:14 am. 1 min read\"}]', name='tavily_search_results_json', id='a14f1c36-3283-4ddf-ae9a-40f85ad235b8', tool_call_id='b89eb3b3-6650-4139-a581-7d261c8a5ca3', artifact={'query': 'crime in Chennai 2024', 'follow_up_questions': None, 'answer': 'In 2024, there has been a notable reduction in major crimes in Chennai according to the Chennai Police Commissioner. The Avadi Police Commissionerate has recorded a decline in incidents of crimes, with a significant decrease in murders and other serious offenses compared to 2023. Despite this, there have been isolated incidents such as the rape case involving Gnanasekaran at Anna University. Overall, crime rates in Chennai are reported to be low, though there is a moderate concern regarding home break-ins and muggings.', 'images': ['https://media.assettype.com/puthiyathalaimurai/2024-07/74d9741b-b453-46f7-8067-e99e8d91446b/maxresdefault.jpg?rect=0,48,1280,672&w=1200&ar=40:21&auto=format,compress&ogImage=true&mode=crop&enlarge=true&overlay=false&overlay_position=bottom&overlay_width=100', 'https://i.ytimg.com/vi/Si5eGbLZ1qE/maxresdefault.jpg', 'https://img.manoramanews.com/content/dam/mm/mnews/crime/kuttapathram/images/2024/7/29/chennai-arrest.jpg', 'https://media.assettype.com/newindianexpress/2024-02/3d433488-ea67-4bc7-89f0-fabf92169e63/cty_cop093531.jpg?rect=0,0,1600,900&w=480&auto=format,compress&fit=max', 'https://media.thanthitv.com/h-upload/2024/02/19/684802-kjfgjsdf.jpg'], 'results': [{'title': 'Avadi city record dip in incidents of crimes in 2024', 'url': 'https://www.dtnext.in/news/chennai/avadi-city-record-dip-in-incidents-of-crimes-in-2024-818042', 'content': 'CHENNAI: In a positive development, the Avadi Police Commissionerate has recorded a decline in the incidents of crimes reported in the year 2024 compared to the previous year 2023. According to a press note released by Avadi city police commissioner ADGP K Shankar, the number of murders has come down from 59 in 2023 to 48 in 2024.', 'score': 0.9203972, 'raw_content': '\\n\\nMORE\\nAvadi city record dip in incidents of crimes in 2024\\nAccording to a press note released by Avadi city police commissioner ADGP K Shankar, the number of murders has come down from 59 in 2023 to 48 in 2024. The number of housebreaking has reduced from 239 to 165 recording a 31 per cent decline.\\nRepresentative Image (Pexels)\\nCHENNAI: In a positive development, the Avadi Police Commissionerate has recorded a decline in the incidents of crimes reported in the year 2024 compared to the previous year 2023.\\nAccording to a press note released by Avadi city police commissioner ADGP K Shankar, the number of murders has come down from 59 in 2023 to 48 in 2024. The number of housebreaking has reduced from 239 to 165 recording a 31 per cent decline.  \\nThe incidents of murders have reduced by 19 in the year 2024. Similarly, murder for gain, attempt to murder, rioting, burglary, chain snatching, and mobile snatching have also come down. The fatal accidents also came down from 420 to 415. In addition, the incidents of rape have also reduced.  \\nDuring the year 2024, field policing was given greater importance in the Avadi Police Commissionerate. The measures like close surveillance and deterrent action on rowdy elements have resulted in a considerable decline in murder cases especially in rowdy-prone areas like Redhills.  \\nIn Redhills Range, a total of 18 Murder cases were reported in 2023 while in 2024 only 8 cases were reported. A special cell has been created to gather intelligence inputs on rowdies and anti-social elements. The special cell has provided good inputs resulting in preventive action against them.  \\nFurther, the pending cases against rowdy elements are being closed expeditiously to create deterrence in the minds of criminals.  \\nThere has also been a reduction in the cases of assaults on weaker sections in the year 2024. With regard to controlling property offences, the use of technology like E-beats has enhanced patrolling in crime-prone areas.  \\nFurther, the dip in property offences can be attributed to police officers’ effective methods of investigation and proper follow-up. A total of 232 persons have been detained under the Goondas Act in the year 2024.\\nDTNEXT Bureau  \\n    \\n© Copyright  | Powered by Hocalwire\\n'}, {'title': 'Impressive reduction of crimes in Avadi Police Commissionerate in 2024', 'url': 'https://www.dtnext.in/news/chennai/impressive-reduction-of-crimes-in-avadi-police-commissionerate-in-2024-817957', 'content': 'CHENNAI: There has been a substantial decrease in the incidents of crimes in the Avadi Police Commissionerate in the year 2024 compared to the previous year, 2023. According to a press note released by Avadi commissioner, ADGP K Shankar incidents of murders have reduced by almost 20% in 2024. Similarly, there has been a substantial reduction in the cases of murder for gain, attempt to murder', 'score': 0.9125066, 'raw_content': '\\n\\nMORE\\nImpressive reduction of crimes in Avadi Police Commissionerate in 2024\\nAccording to a press note released by Avadi commissioner, ADGP K Shankar incidents of murders have reduced by almost 20% in 2024.\\nAvadi commissioner, ADGP K Shankar (Photo: X-@@avadipolice)\\nCHENNAI: There has been a substantial decrease in the incidents of crimes in the Avadi Police Commissionerate in the year 2024 compared to the previous year, 2023.\\nAccording to a press note released by Avadi commissioner, ADGP K Shankar incidents of murders have reduced by almost 20% in 2024. \\nSimilarly, there has been a substantial reduction in the cases of murder for gain, attempt to murder, rioting, burglary, chain snatching, and mobile snatching.\\nIncidents of crime against women like rape, have also shown reduction.\\nDuring the year 2024, there has been a sharp focus on field policing in the Avadi Police Commissionerate. Close surveillance and deterrent action on rowdy elements have resulted in a considerable reduction of murder cases, especially in rowdy-prone areas like Redhills. \\nIn Redhills Range, a total of 18 murder cases were reported in 2023, while only 8 cases were reported in 2024. A special cell has been created to gather actionable intelligence inputs on rowdies and anti-social elements, which have provided good inputs resulting in preventive action against them. Further, pending cases against rowdy elements are being closely followed to create deterrence in the minds of criminals.\\nThere has also been a reduction in the cases of atrocities on the weaker section in the year 2024.\\nWith regard to controlling property offence, the use of technology like E-beats have improved patrolling in crime-prone areas. Further, quick detection of the cases by the police officers and proper follow-up have resulted in a reduction of property offences.\\nA total of 232 persons have been detained under the Goondas Act in the year 2024.\\n \\nDTNEXT Bureau  \\n    \\n© Copyright  | Powered by Hocalwire\\n'}, {'title': 'chennai crime - Times of India', 'url': 'https://timesofindia.indiatimes.com/topic/chennai-crime', 'content': 'Chennai Crime: Latest News, Videos and Photos of Chennai Crime | Times of India Chennai rape case: Rapist knew layout of Anna University campus well & entered at will TNN / Dec 27, 2024, 07:12 (IST) Gnanasekaran, a man with three wives and a history of criminal activities, was arrested for raping an engineering student on the Anna University campus, where his wife works. Chennai: Rape accused knew Anna University campus well TNN / Dec 27, 2024, 07:01 (IST) Gnanasekaran, recently arrested for raping an engineering student at Anna University, is a repeat offender with a history of convictions and pending cases.', 'score': 0.88444936, 'raw_content': \"Chennai Crime: Latest News, Videos and Photos of Chennai Crime | Times of India\\nEdition\\nIN\\n\\nIN\\nUS\\n\\nSign In\\n\\nTOI\\n\\nElections 2024\\nVideos\\n\\nCity\\nMetro Cities\\n\\nmumbai\\ndelhi\\nbengaluru\\nHyderabad\\nkolkata\\nchennai\\n\\nOther Cities\\n\\nagra\\nagartala\\nahmedabad\\najmer\\nallahabad\\namaravati\\namritsar\\naurangabad\\nbareilly\\nbhubaneswar\\nbhopal\\nchandigarh\\ncoimbatore\\ncuttack\\ndehradun\\nerode\\nfaridabad\\nghaziabad\\ngoa\\ngurgaon\\nguwahati\\nhubballi\\nimphal\\nindore\\nitanagar\\njaipur\\njammu\\njamshedpur\\njodhpur\\nkanpur\\nkochi\\nkohima\\nkolhapur\\nkozhikode\\nludhiana\\nlucknow\\nmadurai\\nmangaluru\\nmeerut\\nmumbai region\\nmysuru\\nnagpur\\nnashik\\nnavi mumbai\\nnoida\\npatna\\npuducherry\\npune\\nraipur\\nrajkot\\nranchi\\nthane\\nsalem\\nshillong\\nshimla\\nsrinagar\\nsurat\\ntrichy\\nthiruvananthapuram\\nudaipur\\nvadodara\\nvaranasi\\nvijayawada\\nvisakhapatnam\\nphotos\\nWeb Stories\\n\\n\\n\\nIndia\\n\\nfeatured\\ncoronavirus\\nopinions and features\\nTimes Evoke\\nMaharashtra\\nDelhi\\nKarnataka\\nTamil Nadu\\nTelangana\\nUttar Pradesh\\nWest Bengal\\nGujarat\\nMadhya Pradesh\\nBihar\\nChandigarh\\nRajasthan\\nArunachal Pradesh\\nAndhra Pradesh\\nAssam\\nChhattisgarh\\nGoa\\nHaryana\\nHimachal Pradesh\\nJammu Kashmir\\nJharkhand\\nKerala\\nManipur\\nMeghalaya\\nMizoram\\nNagaland\\nOdisha\\nPunjab\\nSikkim\\nTripura\\nUttarakhand\\nAndaman Nicobar Islands\\nDadra Nagar Haveli\\nDaman Diu\\nLakshadweep\\nPondicherry\\nWeb Stories\\n\\n\\n\\nWorld\\n\\nBusiness\\nTech\\nCricket\\nSports\\nEntertainment\\nAuto\\nTV\\nWeb Series\\nLife & Style\\nEducation\\nPhotos\\n\\nBlogs\\n\\n\\nNews\\n\\nTopic\\n\\nYou have searched for\\nchennai crime\\n, Showing 9954 results\\nAll(9954)Articles(9936)Videos(18)\\nchennai crime News\\n HC flays cops for lapses, slow probe in grave crimes TNN / Jan 23, 2025, 23:59 (IST)\\n Ganja peddler hacked to death near Chennai TNN / Jan 16, 2025, 19:46 (IST)\\n Woman injured in gang attack dies in hospital TNN / Jan 17, 2025, 00:26 (IST)\\n Rowdy, 22, arrested for sexually harassing elderly woman TNN / Jan 21, 2025, 00:05 (IST)\\n Fisherman, 33, murdered for exposing ganja peddlers at New Washermenpet Jan 17, 2025, 00:17 (IST)\\n Anna Nagar rape case: Inspector suspended, AIADMK expels functionary TNN / Jan 09, 2025, 00:44 (IST)\\n 'Bomb' A Saravanan, notorious A-plus rowdy, nabbed after encounter in Chennai TNN / Jan 16, 2025, 11:20 (IST) Police in Chennai apprehended notorious rowdy 'Bomb' A Saravanan, involved in 33 cases, including six murders, after a violent confrontation. Despite warnings, Saravanan attacked officers and attempted to flee. He hurled a bomb, which failed to explode. The police seized bombs, weapons, and ganja, and injured individuals were hospitalized.\\n Youth with 14 criminal cases hacked to death in Chennai TNN / Jan 06, 2025, 20:55 (IST)\\n Miscreants set bikes ablaze TNN / Jan 07, 2025, 00:59 (IST)\\n Food delivery agent beaten to death by drunk friends in Chennai TNN / Jan 07, 2025, 19:12 (IST)\\n Woman, daughter held in multi-crore sugar import scam Jan 12, 2025, 23:56 (IST)\\n Chennai stalker who pushed student in front of moving train sentenced to death TNN / Dec 30, 2024, 16:43 (IST) The verdict relied on testimonies from more than 70 witnesses, forensic evidence and CCTV footage capturing the crime.\\n Chennai rape case: Rapist knew layout of Anna University campus well & entered at will TNN / Dec 27, 2024, 07:12 (IST) Gnanasekaran, a man with three wives and a history of criminal activities, was arrested for raping an engineering student on the Anna University campus, where his wife works. The swift arrest was made with the help of CCTV footage. His mobile phone revealed disturbing videos, prompting further investigation. Increased surveillance is now implemented at the university to ensure student safety.\\n Chennai: Rape accused knew Anna University campus well TNN / Dec 27, 2024, 07:01 (IST) Gnanasekaran, recently arrested for raping an engineering student at Anna University, is a repeat offender with a history of convictions and pending cases. His familiarity with the campus, through his wife who works there, facilitated his access. Chennai police swiftly apprehended him and are investigating the leak of the FIR containing the victim's identity.\\n Father-son duo held for sickle attack on woman TNN / Jan 04, 2025, 00:41 (IST)\\n Student's rape on university campus shocks Chennai, parties bicker TNN / Dec 26, 2024, 01:16 (IST) A 37-year-old man, Gnanasekaran, was arrested for allegedly raping a second-year engineering student from Anna University and filming her with a male friend to blackmail them. This incident has raised concerns about campus safety. Authorities plan to review security, while political opposition criticizes the DMK government for inadequate protection on educational campuses.\\n AIADMK condemns Anna University sexual assault TNN / Dec 31, 2024, 00:32 (IST)\\n 'Attacked with sickle over love triangle': Youth hacks railway passenger at Sankarankovil station in Tamil Nadu TNN / Dec 10, 2024, 18:57 (IST) A 23-year-old man was attacked with a sickle at Sankarankovil railway station while waiting for a train to Chennai. The assailant, also 23 and from the same town, fled the scene but was later apprehended. Police investigations revealed the attack stemmed from a dispute over a woman, with the assailant having a history of similar incidents and multiple relationships.\\n Chain-snatcher arrested Dec 05, 2024, 23:29 (IST)\\n Three more held for rape of student Dec 11, 2024, 00:05 (IST)\\nLoad More Articles\\nchennai crime Videos\\n Siamang gibbons seized from passenger at Chennai airport\\n TN: BJP State Secretary SG Suryah to appear before Madurai's Judicial Magistrate today\\n This is RGV promoted his lesbian crime drama in Chennai\\n Caught on cam: 3-member gang hacks teenager to death in Chennai\\n Gold worth Rs 25 lakh seized at Chennai airport\\nView All\\n\\nAbout usCreate Your Own AdTerms of Use and Grievance Redressal Policy Privacy policyAdvertise with usRSSNewsletterFeedbackePaperSitemapArchives\\nFOLLOW US ON\\n\\n\\n\\n\\n\\n\\n\\n\\n\\nOther Times Group News Sites\\nThe Economic TimesHindi Economic TimesNavbharat TimesMaharashtra TimesVijaya KarnatakaTelugu SamayamTamil SamayamMalayalam SamayamI am GujaratTimesPointsIndiatimesBrand CapitalEducation TimesTimes FoodMumbai MirrorBangalore MirrorIndiaTimes BanglaHindi Podcast\\nPopular Categories\\nHeadlinesSports NewsBusiness NewsIndia NewsWorld NewsBollywood NewsHealth & Fitness TipsIndian TV ShowsCelebrity Photos\\nHot on the Web\\nSky Force Movie ReviewKangana RanautAkshay KumarPushpa 2 Box Office CollectionSupplementsSaif Ali KhanNasaBigg Boss 18Beetroot Chia Seed WaterOptical illusion\\nTop Trends\\nMumbai vs Jammu and KashmirSaif Ali Khan AttackVivek RamaswamyTax CalculatorPublic Holidays 2025Joe BidenIncome Tax SlabsNovak DjokovicStorm ÉowynBritt BakerHeather KnightSSC CGL Tier 2 Answer KeyCMAT Exam GuidelinesSuper Bowl MomentsWWE Saturday Night Main Event 2025Taylor SwiftUPSC Civil Services Prelims 2025Live Cricket Score\\nTrending Topics\\nEmergency Box Office CollectionGame Changer Box Office CollectionSara Ali KhanRepublic Day WishesSky Force ReviewMost famous 7 WondersVirender SehwagTraffic Advisory for Republic DayMagnesium DeficiencyMemory SharpFatty Liver SymptomsMagnesium DeficiencyBirthright Citizenshipemergency Box Office CollectionShark Tank India 4NYT ConnectionsAmazon SaleSatya NadellaTOI News\\nLiving and entertainment\\niDivaMensXP.comFeminaETimesGraziaZoomTravel DestinationsBombay TimesCricbuzz.comFilmfareOnline SongsTVLifestyleLongwalks AppNewspaper SubscriptionFood NewsTimes PrimeWhats Hot\\nServices\\nCouponDuniaMagicbricksTechGigTimesJobsBollywood NewsTimes MobileGadgets NowCareersColombia\\nCopyright © 2024 Bennett, Coleman & Co. Ltd. All rights reserved. For reprint rights: Times Syndication ServiceDo Not Sell or Share My Personal Information\"}, {'title': 'Crime in Chennai. Safety in Chennai - Numbeo', 'url': 'https://www.numbeo.com/crime/in/Chennai', 'content': 'Crime rates in Chennai, India. Level of crime: 39.01: Low: Crime increasing in the past 5 years: 54.02: Moderate: Worries home broken and things stolen: 41.55: Moderate: Worries being mugged or robbed: ... Anonymous on Oct 26, 2024: Pretty safe but still need to be a little aware on corruption.', 'score': 0.878825, 'raw_content': \"\\n\\n\\nCrime\\n > \\nIndia\\n > \\n\\nChennai\\n\\n Crime in Chennai, India\\n\\n\\n\\n\\n\\n\\n Compare Chennai  with: \\n\\n\\n\\n\\n\\n\\n\\n\\nDo you live in Chennai? Add data for Chennai \\n\\n\\nIndex\\nCrime Index: \\n\\n39.65\\n\\nSafety Index: \\n\\n60.35\\n\\n\\n\\n\\n\\nCrime rates in Chennai, India\\n\\nLevel of crime39.01\\nLow\\nCrime increasing in the past 5 years54.02\\nModerate\\nWorries home broken and things stolen41.55\\nModerate\\nWorries being mugged or robbed40.03\\nModerate\\nWorries car stolen33.09\\nLow\\nWorries things from car stolen35.80\\nLow\\nWorries attacked35.88\\nLow\\nWorries being insulted37.43\\nLow\\nWorries being subject to a physical attack because of your skin color, ethnic origin, gender or religion22.67\\nLow\\nProblem people using or dealing drugs36.87\\nLow\\nProblem property crimes such as vandalism and theft45.51\\nModerate\\nProblem violent crimes such as assault and armed robbery35.93\\nLow\\nProblem corruption and bribery74.73\\nHigh\\n\\n\\nSafety in Chennai, India\\n\\nSafety walking alone during daylight81.42\\nVery High\\nSafety walking alone during night55.13\\nModerate\\n\\n\\nContributors: 407\\nLast update: January 2025\\nThese data are based on perceptions of visitors of this website in the past 5 years.\\nIf the value is 0, it means it is perceived as very low, and if the value is 100, it means it is perceived as very high.\\n\\n\\n\\n    Do you live in Chennai? Yes, I'm willing to do a survey\\n\\nMoving to Chennai? Explore:\\n\\nQuality of Life in Chennai\\n\\nCost of Living in Chennai\\n\\nHealth Care in Chennai\\n\\nPollution in Chennai\\n\\nProperty Prices in Chennai\\n\\nTraffic in Chennai\\n\\n\\n\\nSign Up for Our Newsletter:\\n\\n\\n\\n\\n\\n\\n\\nYour Email Address:\\n\\n\\n\\n\\n\\n\\n\\n\\nNearby cities:\\n\\nCrime in Vellore84.79 milesCrime in Gingee96.96 milesCrime in Pondicherry100.49 milesCrime in Tiruvannamalai117.59 milesCrime in Madanapalle152.18 milesCrime in Kumbakonam170.77 milesCrime in Karaikal171.04 milesCrime in Hosur187.94 milesCrime in Tiruchirapalli (Trichy)201.65 milesCrime in Bangalore203.29 miles\\n\\n\\n\\nThis page in other languages:\\n\\nDeutschKriminalität in Chennai\\n\\n\\n\\nPortuguêsCrime em Chennai\\n\\n\\n\\nItalianoCriminalità a Chennai\\n\\n\\n\\nFrançaisCriminalité à Chennai\\n\\n\\n\\nEspañolCriminalidad en Chennai\\n\\n\\n\\n\\n\\n\\n\\n\\n \\xa0\\xa0 \\n\\n\\n\\n\\n\\n\\n\\nLeave a comment:\\n\\n\\n\\n\\n\\n\\n\\nYour name:  Sign In \\nYour email address (optional): \\nYour comment (no HTML): \\n\\n\\n\\n\\n3 Comments so far \\nAnonymous\\non Oct 26, 2024: \\n\\nPretty safe but still need to be a little aware on corruption\\n\\n\\nManivannan\\non Dec 13, 2021: \\n\\nWhen will Chennai bring in anti-conversion laws like that Hindutva terror hub Bengaluru? Looks like Hindu terror groups in Bengaluru are oblivious to the mass conversions being done by ISKON, Hare Krishna in Europe and America. India is a pathetic miserable country where a cow's life is more valuable than humans. Cows are gods, but women are raped, tortured and molested. Cow dung is sacred in India.\\n\\n\\nAnonymous\\non Jan 16, 2021: \\n\\nRaghavendran R it isn't as safe as you think it is. There has been a steady rise in robberies.\\n\\n\\n\\n\\n\\nAbout\\nIn the News\\nNewsletter\\nAPI\\n\\nCopyright © 2009-2025 Numbeo. Your use of this service is subject to our \\nTerms of Use and \\nPrivacy Policy\\n\\n\\n\\n Crime in Chennai, India\\nCrime rates in Chennai, India\\nSafety in Chennai, India\\nContributors: 407\\nLast update: January 2025\\nThese data are based on perceptions of visitors of this website in the past 5 years.\\nIf the value is 0, it means it is perceived as very low, and if the value is 100, it means it is perceived as very high.\\n\\n\\n\\n    Do you live in Chennai? Yes, I'm willing to do a survey\\n\\nMoving to Chennai? Explore:\\n\\nQuality of Life in Chennai\\n\\nCost of Living in Chennai\\n\\nHealth Care in Chennai\\n\\nPollution in Chennai\\n\\nProperty Prices in Chennai\\n\\nTraffic in Chennai\\n\\n\\n\\nSign Up for Our Newsletter:\\n\\n\\n\\n\\n\\n\\n\\nYour Email Address:\\n\\n\\n\\n\\n\\n\\n\\n\\nNearby cities:\\n\\nCrime in Vellore84.79 milesCrime in Gingee96.96 milesCrime in Pondicherry100.49 milesCrime in Tiruvannamalai117.59 milesCrime in Madanapalle152.18 milesCrime in Kumbakonam170.77 milesCrime in Karaikal171.04 milesCrime in Hosur187.94 milesCrime in Tiruchirapalli (Trichy)201.65 milesCrime in Bangalore203.29 miles\\n\\n\\n\\nThis page in other languages:\\n\\nDeutschKriminalität in Chennai\\n\\n\\n\\nPortuguêsCrime em Chennai\\n\\n\\n\\nItalianoCriminalità a Chennai\\n\\n\\n\\nFrançaisCriminalité à Chennai\\n\\n\\n\\nEspañolCriminalidad en Chennai\\n\\n\\n\\n\\n\\n\\n\\n\\n \\xa0\\xa0 \\n\\n\\n\\n\\n\\n\\n\\nLeave a comment:\\n\\n\\n\\n\\n\\n\\n\\nYour name:  Sign In \\nYour email address (optional): \\nYour comment (no HTML): \\n\\n\\n\\n\\n3 Comments so far \\nAnonymous\\non Oct 26, 2024: \\n\\nPretty safe but still need to be a little aware on corruption\\n\\n\\nManivannan\\non Dec 13, 2021: \\n\\nWhen will Chennai bring in anti-conversion laws like that Hindutva terror hub Bengaluru? Looks like Hindu terror groups in Bengaluru are oblivious to the mass conversions being done by ISKON, Hare Krishna in Europe and America. India is a pathetic miserable country where a cow's life is more valuable than humans. Cows are gods, but women are raped, tortured and molested. Cow dung is sacred in India.\\n\\n\\nAnonymous\\non Jan 16, 2021: \\n\\nRaghavendran R it isn't as safe as you think it is. There has been a steady rise in robberies.\\n\\n\\n\\n\\n\\nAbout\\nIn the News\\nNewsletter\\nAPI\\n\\nCopyright © 2009-2025 Numbeo. Your use of this service is subject to our \\nTerms of Use and \\nPrivacy Policy\\n\\n\\n\\nLast update: January 2025\\nThese data are based on perceptions of visitors of this website in the past 5 years.\\nIf the value is 0, it means it is perceived as very low, and if the value is 100, it means it is perceived as very high.\\n\\n\\n\\n    Do you live in Chennai? Yes, I'm willing to do a survey\\n\\nMoving to Chennai? Explore:\\n\\nQuality of Life in Chennai\\n\\nCost of Living in Chennai\\n\\nHealth Care in Chennai\\n\\nPollution in Chennai\\n\\nProperty Prices in Chennai\\n\\nTraffic in Chennai\\n\\n\\n\\nSign Up for Our Newsletter:\\n\\n\\n\\n\\n\\n\\n\\nYour Email Address:\\n\\n\\n\\n\\n\\n\\n\\n\\nNearby cities:\\n\\nCrime in Vellore84.79 milesCrime in Gingee96.96 milesCrime in Pondicherry100.49 milesCrime in Tiruvannamalai117.59 milesCrime in Madanapalle152.18 milesCrime in Kumbakonam170.77 milesCrime in Karaikal171.04 milesCrime in Hosur187.94 milesCrime in Tiruchirapalli (Trichy)201.65 milesCrime in Bangalore203.29 miles\\n\\n\\n\\nThis page in other languages:\\n\\nDeutschKriminalität in Chennai\\n\\n\\n\\nPortuguêsCrime em Chennai\\n\\n\\n\\nItalianoCriminalità a Chennai\\n\\n\\n\\nFrançaisCriminalité à Chennai\\n\\n\\n\\nEspañolCriminalidad en Chennai\\n\\n\\n\\n\\n\\n\\n\\n\\n \\xa0\\xa0 \\n\\n\\n\\n\\n\\n\\n\\nLeave a comment:\\n\\n\\n\\n\\n\\n\\n\\nYour name:  Sign In \\nYour email address (optional): \\nYour comment (no HTML): \\n\\n\\n\\n\\n3 Comments so far \\nAnonymous\\non Oct 26, 2024: \\n\\nPretty safe but still need to be a little aware on corruption\\n\\n\\nManivannan\\non Dec 13, 2021: \\n\\nWhen will Chennai bring in anti-conversion laws like that Hindutva terror hub Bengaluru? Looks like Hindu terror groups in Bengaluru are oblivious to the mass conversions being done by ISKON, Hare Krishna in Europe and America. India is a pathetic miserable country where a cow's life is more valuable than humans. Cows are gods, but women are raped, tortured and molested. Cow dung is sacred in India.\\n\\n\\nAnonymous\\non Jan 16, 2021: \\n\\nRaghavendran R it isn't as safe as you think it is. There has been a steady rise in robberies.\\n\\n\\n\\n\\n\\nAbout\\nIn the News\\nNewsletter\\nAPI\\n\\nCopyright © 2009-2025 Numbeo. Your use of this service is subject to our \\nTerms of Use and \\nPrivacy Policy\\n\\n\\n\\nThese data are based on perceptions of visitors of this website in the past 5 years.\\nIf the value is 0, it means it is perceived as very low, and if the value is 100, it means it is perceived as very high.\\n\\n\\n\\n    Do you live in Chennai? Yes, I'm willing to do a survey\\n\\nMoving to Chennai? Explore:\\n\\nQuality of Life in Chennai\\n\\nCost of Living in Chennai\\n\\nHealth Care in Chennai\\n\\nPollution in Chennai\\n\\nProperty Prices in Chennai\\n\\nTraffic in Chennai\\n\\n\\n\\nSign Up for Our Newsletter:\\n\\n\\n\\n\\n\\n\\n\\nYour Email Address:\\n\\n\\n\\n\\n\\n\\n\\n\\nNearby cities:\\n\\nCrime in Vellore84.79 milesCrime in Gingee96.96 milesCrime in Pondicherry100.49 milesCrime in Tiruvannamalai117.59 milesCrime in Madanapalle152.18 milesCrime in Kumbakonam170.77 milesCrime in Karaikal171.04 milesCrime in Hosur187.94 milesCrime in Tiruchirapalli (Trichy)201.65 milesCrime in Bangalore203.29 miles\\n\\n\\n\\nThis page in other languages:\\n\\nDeutschKriminalität in Chennai\\n\\n\\n\\nPortuguêsCrime em Chennai\\n\\n\\n\\nItalianoCriminalità a Chennai\\n\\n\\n\\nFrançaisCriminalité à Chennai\\n\\n\\n\\nEspañolCriminalidad en Chennai\\n\\n\\n\\n\\n\\n\\n\\n\\n \\xa0\\xa0 \\n\\n\\n\\n\\n\\n\\n\\nLeave a comment:\\n\\n\\n\\n\\n\\n\\n\\nYour name:  Sign In \\nYour email address (optional): \\nYour comment (no HTML): \\n\\n\\n\\n\\n3 Comments so far \\nAnonymous\\non Oct 26, 2024: \\n\\nPretty safe but still need to be a little aware on corruption\\n\\n\\nManivannan\\non Dec 13, 2021: \\n\\nWhen will Chennai bring in anti-conversion laws like that Hindutva terror hub Bengaluru? Looks like Hindu terror groups in Bengaluru are oblivious to the mass conversions being done by ISKON, Hare Krishna in Europe and America. India is a pathetic miserable country where a cow's life is more valuable than humans. Cows are gods, but women are raped, tortured and molested. Cow dung is sacred in India.\\n\\n\\nAnonymous\\non Jan 16, 2021: \\n\\nRaghavendran R it isn't as safe as you think it is. There has been a steady rise in robberies.\\n\\n\\n\\n\\n\\nAbout\\nIn the News\\nNewsletter\\nAPI\\n\\nCopyright © 2009-2025 Numbeo. Your use of this service is subject to our \\nTerms of Use and \\nPrivacy Policy\\n\\n\\n\\nIf the value is 0, it means it is perceived as very low, and if the value is 100, it means it is perceived as very high.\\n\\n\\n\\n    Do you live in Chennai? Yes, I'm willing to do a survey\\n\\nMoving to Chennai? Explore:\\n\\nQuality of Life in Chennai\\n\\nCost of Living in Chennai\\n\\nHealth Care in Chennai\\n\\nPollution in Chennai\\n\\nProperty Prices in Chennai\\n\\nTraffic in Chennai\\n\\n\\n\\nSign Up for Our Newsletter:\\n\\n\\n\\n\\n\\n\\n\\nYour Email Address:\\n\\n\\n\\n\\n\\n\\n\\n\\nNearby cities:\\n\\nCrime in Vellore84.79 milesCrime in Gingee96.96 milesCrime in Pondicherry100.49 milesCrime in Tiruvannamalai117.59 milesCrime in Madanapalle152.18 milesCrime in Kumbakonam170.77 milesCrime in Karaikal171.04 milesCrime in Hosur187.94 milesCrime in Tiruchirapalli (Trichy)201.65 milesCrime in Bangalore203.29 miles\\n\\n\\n\\nThis page in other languages:\\n\\nDeutschKriminalität in Chennai\\n\\n\\n\\nPortuguêsCrime em Chennai\\n\\n\\n\\nItalianoCriminalità a Chennai\\n\\n\\n\\nFrançaisCriminalité à Chennai\\n\\n\\n\\nEspañolCriminalidad en Chennai\\n\\n\\n\\n\\n\\n\\n\\n\\n \\xa0\\xa0 \\n\\n\\n\\n\\n\\n\\n\\nLeave a comment:\\n\\n\\n\\n\\n\\n\\n\\nYour name:  Sign In \\nYour email address (optional): \\nYour comment (no HTML): \\n\\n\\n\\n\\n3 Comments so far \\nAnonymous\\non Oct 26, 2024: \\n\\nPretty safe but still need to be a little aware on corruption\\n\\n\\nManivannan\\non Dec 13, 2021: \\n\\nWhen will Chennai bring in anti-conversion laws like that Hindutva terror hub Bengaluru? Looks like Hindu terror groups in Bengaluru are oblivious to the mass conversions being done by ISKON, Hare Krishna in Europe and America. India is a pathetic miserable country where a cow's life is more valuable than humans. Cows are gods, but women are raped, tortured and molested. Cow dung is sacred in India.\\n\\n\\nAnonymous\\non Jan 16, 2021: \\n\\nRaghavendran R it isn't as safe as you think it is. There has been a steady rise in robberies.\\n\\n\\n\\n\\n\\nAbout\\nIn the News\\nNewsletter\\nAPI\\n\\nCopyright © 2009-2025 Numbeo. Your use of this service is subject to our \\nTerms of Use and \\nPrivacy Policy\\n\\n\\n\\nYour name:  Sign In \\nYour email address (optional): \\nYour comment (no HTML): \\n\\n\\n\\nYour email address (optional): \\nYour comment (no HTML): \\n\\n\\n\\nYour comment (no HTML): \\n\\n\\n\\n\\n\\n\\n\\nCopyright © 2009-2025 Numbeo. Your use of this service is subject to our \\nTerms of Use and \\nPrivacy Policy\\n\\n\"}, {'title': 'Dip in major crimes in city, says Chennai police commissioner', 'url': 'https://www.newindianexpress.com/cities/chennai/2024/Feb/04/dip-in-major-crimes-in-city-says-chennai-police-commissioner', 'content': 'CHENNAI: City police commissioner Sandeep Rai Rathore has said that major crimes like murder for gain, robbery, burglary and snatching have reduced drastically ... 04 Feb 2024, 4:14 am. 1 min read', 'score': 0.85097736, 'raw_content': 'Dip in major crimes in city, says Chennai police commissioner\\nCHENNAI: City police commissioner Sandeep Rai Rathore has said that major crimes like murder for gain, robbery, burglary and snatching have reduced drastically in Chennai in 2023. \\nHe was speaking during a programme held to return missing or stolen mobiles, bikes, laptops and other valuables to their respective owners, on Saturday.   \\nAccording to the police, over 3,337.4 sovereigns of gold jewellery, 50.5 kg of silver articles, Rs 3.6 crore in cash, 798 mobile phones, 411 two-wheelers, 28 auto rickshaws and 15 light motor vehicles, altogether worth around Rs 19.2 crore, were retrieved in the last six months of 2023. \\nAlso properties worth Rs 265 crore have been recovered in 811 cases related to the central crime branch in 2023. \\nFollow The New Indian Express channel on WhatsApp\\xa0\\nDownload the TNIE app to stay with us and follow the latest\\n\\nRelated Stories\\nCopyright - newindianexpress.com 2024. All rights reserved. \\n\\n'}], 'response_time': 6.31})]}\n",
      "'\\n---\\n'\n",
      "---GENERATE---\n"
     ]
    },
    {
     "name": "stderr",
     "output_type": "stream",
     "text": [
      "/Users/apitchai002/Documents/Clones/crraimscs-genai-2025/.venv/lib/python3.9/site-packages/langsmith/client.py:256: LangSmithMissingAPIKeyWarning: API key must be provided when using hosted LangSmith API\n",
      "  warnings.warn(\n"
     ]
    },
    {
     "name": "stdout",
     "output_type": "stream",
     "text": [
      "\"Output from node 'generate':\"\n",
      "'---'\n",
      "{ 'messages': [ 'In 2024, the Avadi Police Commissionerate has seen a decrease '\n",
      "                'in crimes, including murders, compared to 2023. However, a '\n",
      "                'man named Gnanasekaran was arrested in December 2024 for '\n",
      "                'raping an engineering student at Anna University. '\n",
      "                'Additionally, major crimes like murder for gain, robbery, and '\n",
      "                'burglary have decreased in Chennai.']}\n",
      "'\\n---\\n'\n"
     ]
    }
   ],
   "source": [
    "for output in graph.stream(inputs):\n",
    "    for key, value in output.items():\n",
    "        pprint.pprint(f\"Output from node '{key}':\")\n",
    "        pprint.pprint(\"---\")\n",
    "        pprint.pprint(value, indent=2, width=80, depth=None)\n",
    "    pprint.pprint(\"\\n---\\n\")"
   ]
  },
  {
   "cell_type": "code",
   "execution_count": null,
   "metadata": {},
   "outputs": [],
   "source": []
  }
 ],
 "metadata": {
  "kernelspec": {
   "display_name": ".venv",
   "language": "python",
   "name": "python3"
  },
  "language_info": {
   "codemirror_mode": {
    "name": "ipython",
    "version": 3
   },
   "file_extension": ".py",
   "mimetype": "text/x-python",
   "name": "python",
   "nbconvert_exporter": "python",
   "pygments_lexer": "ipython3",
   "version": "3.9.6"
  }
 },
 "nbformat": 4,
 "nbformat_minor": 2
}
