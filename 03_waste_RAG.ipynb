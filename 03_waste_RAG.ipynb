{
 "cells": [
  {
   "cell_type": "markdown",
   "metadata": {},
   "source": [
    "## waste management"
   ]
  },
  {
   "cell_type": "code",
   "execution_count": null,
   "metadata": {},
   "outputs": [],
   "source": [
    "import warnings\n",
    "warnings.filterwarnings(\"ignore\")"
   ]
  },
  {
   "cell_type": "code",
   "execution_count": null,
   "metadata": {},
   "outputs": [],
   "source": [
    "# !pip install pandas"
   ]
  },
  {
   "cell_type": "markdown",
   "metadata": {},
   "source": [
    "### Source Inventory Data: \n",
    "Contains information about stock levels at different source DCs, SKU batches, and their remaining shelf life.\n",
    "### Destination Demand Data: \n",
    "Contains demand data for SKUs at different destination DCs along with per-unit prices.\n",
    "### Transportation Cost Data: \n",
    "Includes per-unit transportation cost and transit time between source and destination DCs."
   ]
  },
  {
   "cell_type": "code",
   "execution_count": 24,
   "metadata": {},
   "outputs": [],
   "source": [
    "import pandas as pd\n",
    "\n",
    "demand_file_path = ('/Users/apitchai002/Documents/Clones/nit-patna-genai-2025/csv_folder/updated_destination_demand.csv') # insert the path of the csv file\n",
    "demand_data = pd.read_csv(demand_file_path)\n",
    "\n",
    "source_file_path = ('/Users/apitchai002/Documents/Clones/nit-patna-genai-2025/csv_folder/updated_source_inventory.csv') # insert the path of the csv file\n",
    "source_data = pd.read_csv(source_file_path)\n",
    "\n",
    "transport_file_path = ('/Users/apitchai002/Documents/Clones/nit-patna-genai-2025/csv_folder/transportation_costs.csv') # insert the path of the csv file\n",
    "transport_data = pd.read_csv(transport_file_path)"
   ]
  },
  {
   "cell_type": "code",
   "execution_count": 25,
   "metadata": {},
   "outputs": [
    {
     "data": {
      "text/html": [
       "<div>\n",
       "<style scoped>\n",
       "    .dataframe tbody tr th:only-of-type {\n",
       "        vertical-align: middle;\n",
       "    }\n",
       "\n",
       "    .dataframe tbody tr th {\n",
       "        vertical-align: top;\n",
       "    }\n",
       "\n",
       "    .dataframe thead th {\n",
       "        text-align: right;\n",
       "    }\n",
       "</style>\n",
       "<table border=\"1\" class=\"dataframe\">\n",
       "  <thead>\n",
       "    <tr style=\"text-align: right;\">\n",
       "      <th></th>\n",
       "      <th>Destination_DC</th>\n",
       "      <th>SKU</th>\n",
       "      <th>Demand</th>\n",
       "    </tr>\n",
       "  </thead>\n",
       "  <tbody>\n",
       "    <tr>\n",
       "      <th>0</th>\n",
       "      <td>DC_1</td>\n",
       "      <td>SKU_1</td>\n",
       "      <td>287</td>\n",
       "    </tr>\n",
       "    <tr>\n",
       "      <th>1</th>\n",
       "      <td>DC_1</td>\n",
       "      <td>SKU_2</td>\n",
       "      <td>316</td>\n",
       "    </tr>\n",
       "    <tr>\n",
       "      <th>2</th>\n",
       "      <td>DC_1</td>\n",
       "      <td>SKU_3</td>\n",
       "      <td>104</td>\n",
       "    </tr>\n",
       "    <tr>\n",
       "      <th>3</th>\n",
       "      <td>DC_1</td>\n",
       "      <td>SKU_4</td>\n",
       "      <td>66</td>\n",
       "    </tr>\n",
       "    <tr>\n",
       "      <th>4</th>\n",
       "      <td>DC_1</td>\n",
       "      <td>SKU_5</td>\n",
       "      <td>257</td>\n",
       "    </tr>\n",
       "  </tbody>\n",
       "</table>\n",
       "</div>"
      ],
      "text/plain": [
       "  Destination_DC    SKU  Demand\n",
       "0           DC_1  SKU_1     287\n",
       "1           DC_1  SKU_2     316\n",
       "2           DC_1  SKU_3     104\n",
       "3           DC_1  SKU_4      66\n",
       "4           DC_1  SKU_5     257"
      ]
     },
     "execution_count": 25,
     "metadata": {},
     "output_type": "execute_result"
    }
   ],
   "source": [
    "#preview the csv file\n",
    "demand_data.head()"
   ]
  },
  {
   "cell_type": "code",
   "execution_count": 26,
   "metadata": {},
   "outputs": [
    {
     "data": {
      "text/html": [
       "<div>\n",
       "<style scoped>\n",
       "    .dataframe tbody tr th:only-of-type {\n",
       "        vertical-align: middle;\n",
       "    }\n",
       "\n",
       "    .dataframe tbody tr th {\n",
       "        vertical-align: top;\n",
       "    }\n",
       "\n",
       "    .dataframe thead th {\n",
       "        text-align: right;\n",
       "    }\n",
       "</style>\n",
       "<table border=\"1\" class=\"dataframe\">\n",
       "  <thead>\n",
       "    <tr style=\"text-align: right;\">\n",
       "      <th></th>\n",
       "      <th>Source_DC</th>\n",
       "      <th>SKU</th>\n",
       "      <th>Batch_ID</th>\n",
       "      <th>AvailableStock</th>\n",
       "      <th>ShelfLifeDays</th>\n",
       "      <th>PerUnitPrice</th>\n",
       "    </tr>\n",
       "  </thead>\n",
       "  <tbody>\n",
       "    <tr>\n",
       "      <th>0</th>\n",
       "      <td>DC_1</td>\n",
       "      <td>SKU_1</td>\n",
       "      <td>SKU_1_Batch_1</td>\n",
       "      <td>398</td>\n",
       "      <td>17</td>\n",
       "      <td>8.402283</td>\n",
       "    </tr>\n",
       "    <tr>\n",
       "      <th>1</th>\n",
       "      <td>DC_1</td>\n",
       "      <td>SKU_1</td>\n",
       "      <td>SKU_1_Batch_2</td>\n",
       "      <td>156</td>\n",
       "      <td>10</td>\n",
       "      <td>2.825307</td>\n",
       "    </tr>\n",
       "    <tr>\n",
       "      <th>2</th>\n",
       "      <td>DC_1</td>\n",
       "      <td>SKU_1</td>\n",
       "      <td>SKU_1_Batch_3</td>\n",
       "      <td>238</td>\n",
       "      <td>23</td>\n",
       "      <td>8.214560</td>\n",
       "    </tr>\n",
       "    <tr>\n",
       "      <th>3</th>\n",
       "      <td>DC_1</td>\n",
       "      <td>SKU_1</td>\n",
       "      <td>SKU_1_Batch_4</td>\n",
       "      <td>152</td>\n",
       "      <td>28</td>\n",
       "      <td>2.046000</td>\n",
       "    </tr>\n",
       "    <tr>\n",
       "      <th>4</th>\n",
       "      <td>DC_1</td>\n",
       "      <td>SKU_2</td>\n",
       "      <td>SKU_2_Batch_1</td>\n",
       "      <td>264</td>\n",
       "      <td>13</td>\n",
       "      <td>3.149458</td>\n",
       "    </tr>\n",
       "  </tbody>\n",
       "</table>\n",
       "</div>"
      ],
      "text/plain": [
       "  Source_DC    SKU       Batch_ID  AvailableStock  ShelfLifeDays  PerUnitPrice\n",
       "0      DC_1  SKU_1  SKU_1_Batch_1             398             17      8.402283\n",
       "1      DC_1  SKU_1  SKU_1_Batch_2             156             10      2.825307\n",
       "2      DC_1  SKU_1  SKU_1_Batch_3             238             23      8.214560\n",
       "3      DC_1  SKU_1  SKU_1_Batch_4             152             28      2.046000\n",
       "4      DC_1  SKU_2  SKU_2_Batch_1             264             13      3.149458"
      ]
     },
     "execution_count": 26,
     "metadata": {},
     "output_type": "execute_result"
    }
   ],
   "source": [
    "#preview the csv file\n",
    "source_data.head()"
   ]
  },
  {
   "cell_type": "code",
   "execution_count": 27,
   "metadata": {},
   "outputs": [
    {
     "data": {
      "text/html": [
       "<div>\n",
       "<style scoped>\n",
       "    .dataframe tbody tr th:only-of-type {\n",
       "        vertical-align: middle;\n",
       "    }\n",
       "\n",
       "    .dataframe tbody tr th {\n",
       "        vertical-align: top;\n",
       "    }\n",
       "\n",
       "    .dataframe thead th {\n",
       "        text-align: right;\n",
       "    }\n",
       "</style>\n",
       "<table border=\"1\" class=\"dataframe\">\n",
       "  <thead>\n",
       "    <tr style=\"text-align: right;\">\n",
       "      <th></th>\n",
       "      <th>Source_DC</th>\n",
       "      <th>Destination_DC</th>\n",
       "      <th>SKU</th>\n",
       "      <th>PerUnitTransportationCost</th>\n",
       "      <th>TransitTimeDays</th>\n",
       "    </tr>\n",
       "  </thead>\n",
       "  <tbody>\n",
       "    <tr>\n",
       "      <th>0</th>\n",
       "      <td>DC_1</td>\n",
       "      <td>DC_1</td>\n",
       "      <td>SKU_1</td>\n",
       "      <td>2.668404</td>\n",
       "      <td>1</td>\n",
       "    </tr>\n",
       "    <tr>\n",
       "      <th>1</th>\n",
       "      <td>DC_1</td>\n",
       "      <td>DC_1</td>\n",
       "      <td>SKU_2</td>\n",
       "      <td>3.206992</td>\n",
       "      <td>4</td>\n",
       "    </tr>\n",
       "    <tr>\n",
       "      <th>2</th>\n",
       "      <td>DC_1</td>\n",
       "      <td>DC_1</td>\n",
       "      <td>SKU_3</td>\n",
       "      <td>3.344718</td>\n",
       "      <td>5</td>\n",
       "    </tr>\n",
       "    <tr>\n",
       "      <th>3</th>\n",
       "      <td>DC_1</td>\n",
       "      <td>DC_1</td>\n",
       "      <td>SKU_4</td>\n",
       "      <td>3.020413</td>\n",
       "      <td>1</td>\n",
       "    </tr>\n",
       "    <tr>\n",
       "      <th>4</th>\n",
       "      <td>DC_1</td>\n",
       "      <td>DC_1</td>\n",
       "      <td>SKU_5</td>\n",
       "      <td>2.812345</td>\n",
       "      <td>9</td>\n",
       "    </tr>\n",
       "  </tbody>\n",
       "</table>\n",
       "</div>"
      ],
      "text/plain": [
       "  Source_DC Destination_DC    SKU  PerUnitTransportationCost  TransitTimeDays\n",
       "0      DC_1           DC_1  SKU_1                   2.668404                1\n",
       "1      DC_1           DC_1  SKU_2                   3.206992                4\n",
       "2      DC_1           DC_1  SKU_3                   3.344718                5\n",
       "3      DC_1           DC_1  SKU_4                   3.020413                1\n",
       "4      DC_1           DC_1  SKU_5                   2.812345                9"
      ]
     },
     "execution_count": 27,
     "metadata": {},
     "output_type": "execute_result"
    }
   ],
   "source": [
    "#preview the csv file\n",
    "transport_data.head()"
   ]
  },
  {
   "cell_type": "code",
   "execution_count": null,
   "metadata": {},
   "outputs": [],
   "source": [
    "# !pip install langchain-community"
   ]
  },
  {
   "cell_type": "code",
   "execution_count": 28,
   "metadata": {},
   "outputs": [],
   "source": [
    "from langchain_community.document_loaders import DirectoryLoader, CSVLoader\n",
    "csv_folder_path = '/Users/apitchai002/Documents/Clones/nit-patna-genai-2025/csv_folder'\n",
    "loader = DirectoryLoader(csv_folder_path, glob=\"**/*.csv\",\n",
    "                             loader_cls=CSVLoader, loader_kwargs={'encoding': 'utf-8'})"
   ]
  },
  {
   "cell_type": "code",
   "execution_count": null,
   "metadata": {},
   "outputs": [],
   "source": [
    "# !pip install langchain-google-genai\n",
    "# !pip install python-dotenv"
   ]
  },
  {
   "cell_type": "code",
   "execution_count": 32,
   "metadata": {},
   "outputs": [
    {
     "name": "stderr",
     "output_type": "stream",
     "text": [
      "/Users/apitchai002/Documents/Clones/nit-patna-genai-2025/.venv/lib/python3.10/site-packages/langchain/indexes/vectorstore.py:171: UserWarning: Using InMemoryVectorStore as the default vectorstore.This memory store won't persist data. You should explicitlyspecify a vectorstore when using VectorstoreIndexCreator\n",
      "  warnings.warn(\n"
     ]
    }
   ],
   "source": [
    "from langchain_google_genai import GoogleGenerativeAIEmbeddings\n",
    "from langchain.indexes import VectorstoreIndexCreator\n",
    "from dotenv import load_dotenv\n",
    "import os\n",
    "\n",
    "load_dotenv()\n",
    "\n",
    "embedding_model = GoogleGenerativeAIEmbeddings(model='models/embedding-001', google_api_key=os.environ['GEMINI_API_KEY'])\n",
    "index_creator = VectorstoreIndexCreator(embedding=embedding_model)\n",
    "docsearch = index_creator.from_loaders([loader])"
   ]
  },
  {
   "cell_type": "code",
   "execution_count": 42,
   "metadata": {},
   "outputs": [],
   "source": [
    "retriever = docsearch.vectorstore.as_retriever(search_type=\"mmr\", search_kwargs={'k': 5})"
   ]
  },
  {
   "cell_type": "code",
   "execution_count": 43,
   "metadata": {},
   "outputs": [],
   "source": [
    "from langchain_google_genai import ChatGoogleGenerativeAI\n",
    "\n",
    "llm = ChatGoogleGenerativeAI(model=\"gemini-2.0-flash\", api_key=os.environ['GEMINI_API_KEY'])"
   ]
  },
  {
   "cell_type": "code",
   "execution_count": 44,
   "metadata": {},
   "outputs": [],
   "source": [
    "from langchain.prompts import PromptTemplate\n",
    "\n",
    "template = \"\"\"Use the following pieces of context to answer the question at the end.\n",
    "If you don't know the answer or the question is not related to the provided context, just say that you don't know, don't try to make up an answer.\n",
    "Use 10 sentences maximum, add bullet points where applicable and keep the answer as reasonable as possible.\n",
    "\n",
    "You will now answer the questions from the provided context. If the questions is not relevant, just say you don't know the answer.\n",
    "```{context}```\n",
    "\n",
    "Question: ```{question}```\n",
    "Helpful Answer:\"\"\"\n",
    "\n",
    "prompt = PromptTemplate.from_template(template=template)"
   ]
  },
  {
   "cell_type": "code",
   "execution_count": 45,
   "metadata": {},
   "outputs": [],
   "source": [
    "question = \"what is the demand of SKU_1 in DC_1\""
   ]
  },
  {
   "cell_type": "code",
   "execution_count": 46,
   "metadata": {},
   "outputs": [],
   "source": [
    "docs = retriever.invoke(question)"
   ]
  },
  {
   "cell_type": "code",
   "execution_count": 47,
   "metadata": {},
   "outputs": [
    {
     "data": {
      "text/plain": [
       "[Document(id='9471bd02-9e31-4b13-b91f-cb6715100146', metadata={'source': '/Users/apitchai002/Documents/Clones/nit-patna-genai-2025/csv_folder/updated_destination_demand.csv', 'row': 11}, page_content='Destination_DC: DC_1\\nSKU: SKU_12\\nDemand: 27'),\n",
       " Document(id='42ce949f-4b14-4e04-8351-76bb614bc1f7', metadata={'source': '/Users/apitchai002/Documents/Clones/nit-patna-genai-2025/csv_folder/updated_destination_demand.csv', 'row': 0}, page_content='Destination_DC: DC_1\\nSKU: SKU_1\\nDemand: 287'),\n",
       " Document(id='d6c27e0f-e3fc-44a4-bd1a-e5a39f2f1a5c', metadata={'source': '/Users/apitchai002/Documents/Clones/nit-patna-genai-2025/csv_folder/updated_destination_demand.csv', 'row': 250}, page_content='Destination_DC: DC_6\\nSKU: SKU_1\\nDemand: 41'),\n",
       " Document(id='0d212628-539a-4443-a0b9-89dcbad36f4c', metadata={'source': '/Users/apitchai002/Documents/Clones/nit-patna-genai-2025/csv_folder/updated_destination_demand.csv', 'row': 15}, page_content='Destination_DC: DC_1\\nSKU: SKU_16\\nDemand: 51'),\n",
       " Document(id='cd5226d3-5c2c-4e89-af49-b1964b21616d', metadata={'source': '/Users/apitchai002/Documents/Clones/nit-patna-genai-2025/csv_folder/updated_destination_demand.csv', 'row': 13}, page_content='Destination_DC: DC_1\\nSKU: SKU_14\\nDemand: 120')]"
      ]
     },
     "execution_count": 47,
     "metadata": {},
     "output_type": "execute_result"
    }
   ],
   "source": [
    "docs"
   ]
  },
  {
   "cell_type": "code",
   "execution_count": 48,
   "metadata": {},
   "outputs": [
    {
     "name": "stdout",
     "output_type": "stream",
     "text": [
      "Destination_DC: DC_1\n",
      "SKU: SKU_12\n",
      "Demand: 27Destination_DC: DC_1\n",
      "SKU: SKU_1\n",
      "Demand: 287Destination_DC: DC_6\n",
      "SKU: SKU_1\n",
      "Demand: 41Destination_DC: DC_1\n",
      "SKU: SKU_16\n",
      "Demand: 51Destination_DC: DC_1\n",
      "SKU: SKU_14\n",
      "Demand: 120\n"
     ]
    }
   ],
   "source": [
    "relevant_text = ''\n",
    "for doc in docs:\n",
    "  relevant_text += doc.page_content\n",
    "print(relevant_text)"
   ]
  },
  {
   "cell_type": "code",
   "execution_count": 50,
   "metadata": {},
   "outputs": [],
   "source": [
    "prompt_formatted_str: str = prompt.format(question=question, context=relevant_text)"
   ]
  },
  {
   "cell_type": "code",
   "execution_count": 51,
   "metadata": {},
   "outputs": [
    {
     "data": {
      "text/plain": [
       "\"Use the following pieces of context to answer the question at the end.\\nIf you don't know the answer or the question is not related to the provided context, just say that you don't know, don't try to make up an answer.\\nUse 10 sentences maximum, add bullet points where applicable and keep the answer as reasonable as possible.\\n\\nYou will now answer the questions from the provided context. If the questions is not relevant, just say you don't know the answer.\\n```Destination_DC: DC_1\\nSKU: SKU_12\\nDemand: 27Destination_DC: DC_1\\nSKU: SKU_1\\nDemand: 287Destination_DC: DC_6\\nSKU: SKU_1\\nDemand: 41Destination_DC: DC_1\\nSKU: SKU_16\\nDemand: 51Destination_DC: DC_1\\nSKU: SKU_14\\nDemand: 120```\\n\\nQuestion: ```what is the demand of SKU_1 in DC_1```\\nHelpful Answer:\""
      ]
     },
     "execution_count": 51,
     "metadata": {},
     "output_type": "execute_result"
    }
   ],
   "source": [
    "prompt_formatted_str"
   ]
  },
  {
   "cell_type": "code",
   "execution_count": 52,
   "metadata": {},
   "outputs": [],
   "source": [
    "response = llm.invoke(prompt_formatted_str)"
   ]
  },
  {
   "cell_type": "code",
   "execution_count": 53,
   "metadata": {},
   "outputs": [
    {
     "data": {
      "text/plain": [
       "\"The demand of SKU_1 in DC_1 is 287.\\n\\nHere's a breakdown of the information provided:\\n\\n*   Destination DC: DC_1, SKU: SKU_1, Demand: 287\""
      ]
     },
     "execution_count": 53,
     "metadata": {},
     "output_type": "execute_result"
    }
   ],
   "source": [
    "response.content"
   ]
  },
  {
   "cell_type": "code",
   "execution_count": null,
   "metadata": {},
   "outputs": [],
   "source": []
  }
 ],
 "metadata": {
  "kernelspec": {
   "display_name": ".venv",
   "language": "python",
   "name": "python3"
  },
  "language_info": {
   "codemirror_mode": {
    "name": "ipython",
    "version": 3
   },
   "file_extension": ".py",
   "mimetype": "text/x-python",
   "name": "python",
   "nbconvert_exporter": "python",
   "pygments_lexer": "ipython3",
   "version": "3.10.9"
  }
 },
 "nbformat": 4,
 "nbformat_minor": 2
}
