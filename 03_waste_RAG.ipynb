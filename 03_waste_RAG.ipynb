{
 "cells": [
  {
   "cell_type": "markdown",
   "metadata": {},
   "source": [
    "## waste management"
   ]
  },
  {
   "cell_type": "code",
   "execution_count": null,
   "metadata": {},
   "outputs": [],
   "source": [
    "import warnings\n",
    "warnings.filterwarnings(\"ignore\")"
   ]
  },
  {
   "cell_type": "code",
   "execution_count": null,
   "metadata": {},
   "outputs": [],
   "source": [
    "# !pip install python-dotenv"
   ]
  },
  {
   "cell_type": "code",
   "execution_count": 3,
   "metadata": {},
   "outputs": [
    {
     "data": {
      "text/plain": [
       "False"
      ]
     },
     "execution_count": 3,
     "metadata": {},
     "output_type": "execute_result"
    }
   ],
   "source": [
    "from dotenv import load_dotenv\n",
    "load_dotenv()"
   ]
  },
  {
   "cell_type": "code",
   "execution_count": null,
   "metadata": {},
   "outputs": [],
   "source": [
    "# !pip install pandas"
   ]
  },
  {
   "cell_type": "markdown",
   "metadata": {},
   "source": [
    "### Source Inventory Data: \n",
    "Contains information about stock levels at different source DCs, SKU batches, and their remaining shelf life.\n",
    "### Destination Demand Data: \n",
    "Contains demand data for SKUs at different destination DCs along with per-unit prices.\n",
    "### Transportation Cost Data: \n",
    "Includes per-unit transportation cost and transit time between source and destination DCs."
   ]
  },
  {
   "cell_type": "code",
   "execution_count": 19,
   "metadata": {},
   "outputs": [],
   "source": [
    "import pandas as pd\n",
    "\n",
    "demand_file_path = ('/Users/apitchai002/Documents/Clones/nit-patna-genai-2025/updated_destination_demand.csv') # insert the path of the csv file\n",
    "demand_data = pd.read_csv(demand_file_path)\n",
    "\n",
    "source_file_path = ('/Users/apitchai002/Documents/Clones/nit-patna-genai-2025/updated_source_inventory.csv') # insert the path of the csv file\n",
    "source_data = pd.read_csv(source_file_path)\n",
    "\n",
    "transport_file_path = ('/Users/apitchai002/Documents/Clones/nit-patna-genai-2025/transportation_costs.csv') # insert the path of the csv file\n",
    "transport_data = pd.read_csv(transport_file_path)"
   ]
  },
  {
   "cell_type": "code",
   "execution_count": 20,
   "metadata": {},
   "outputs": [
    {
     "data": {
      "text/html": [
       "<div>\n",
       "<style scoped>\n",
       "    .dataframe tbody tr th:only-of-type {\n",
       "        vertical-align: middle;\n",
       "    }\n",
       "\n",
       "    .dataframe tbody tr th {\n",
       "        vertical-align: top;\n",
       "    }\n",
       "\n",
       "    .dataframe thead th {\n",
       "        text-align: right;\n",
       "    }\n",
       "</style>\n",
       "<table border=\"1\" class=\"dataframe\">\n",
       "  <thead>\n",
       "    <tr style=\"text-align: right;\">\n",
       "      <th></th>\n",
       "      <th>Destination_DC</th>\n",
       "      <th>SKU</th>\n",
       "      <th>Demand</th>\n",
       "    </tr>\n",
       "  </thead>\n",
       "  <tbody>\n",
       "    <tr>\n",
       "      <th>0</th>\n",
       "      <td>DC_1</td>\n",
       "      <td>SKU_1</td>\n",
       "      <td>287</td>\n",
       "    </tr>\n",
       "    <tr>\n",
       "      <th>1</th>\n",
       "      <td>DC_1</td>\n",
       "      <td>SKU_2</td>\n",
       "      <td>316</td>\n",
       "    </tr>\n",
       "    <tr>\n",
       "      <th>2</th>\n",
       "      <td>DC_1</td>\n",
       "      <td>SKU_3</td>\n",
       "      <td>104</td>\n",
       "    </tr>\n",
       "    <tr>\n",
       "      <th>3</th>\n",
       "      <td>DC_1</td>\n",
       "      <td>SKU_4</td>\n",
       "      <td>66</td>\n",
       "    </tr>\n",
       "    <tr>\n",
       "      <th>4</th>\n",
       "      <td>DC_1</td>\n",
       "      <td>SKU_5</td>\n",
       "      <td>257</td>\n",
       "    </tr>\n",
       "  </tbody>\n",
       "</table>\n",
       "</div>"
      ],
      "text/plain": [
       "  Destination_DC    SKU  Demand\n",
       "0           DC_1  SKU_1     287\n",
       "1           DC_1  SKU_2     316\n",
       "2           DC_1  SKU_3     104\n",
       "3           DC_1  SKU_4      66\n",
       "4           DC_1  SKU_5     257"
      ]
     },
     "execution_count": 20,
     "metadata": {},
     "output_type": "execute_result"
    }
   ],
   "source": [
    "#preview the csv file\n",
    "demand_data.head()"
   ]
  },
  {
   "cell_type": "code",
   "execution_count": 21,
   "metadata": {},
   "outputs": [
    {
     "data": {
      "text/html": [
       "<div>\n",
       "<style scoped>\n",
       "    .dataframe tbody tr th:only-of-type {\n",
       "        vertical-align: middle;\n",
       "    }\n",
       "\n",
       "    .dataframe tbody tr th {\n",
       "        vertical-align: top;\n",
       "    }\n",
       "\n",
       "    .dataframe thead th {\n",
       "        text-align: right;\n",
       "    }\n",
       "</style>\n",
       "<table border=\"1\" class=\"dataframe\">\n",
       "  <thead>\n",
       "    <tr style=\"text-align: right;\">\n",
       "      <th></th>\n",
       "      <th>Source_DC</th>\n",
       "      <th>SKU</th>\n",
       "      <th>Batch_ID</th>\n",
       "      <th>AvailableStock</th>\n",
       "      <th>ShelfLifeDays</th>\n",
       "      <th>PerUnitPrice</th>\n",
       "    </tr>\n",
       "  </thead>\n",
       "  <tbody>\n",
       "    <tr>\n",
       "      <th>0</th>\n",
       "      <td>DC_1</td>\n",
       "      <td>SKU_1</td>\n",
       "      <td>SKU_1_Batch_1</td>\n",
       "      <td>398</td>\n",
       "      <td>17</td>\n",
       "      <td>8.402283</td>\n",
       "    </tr>\n",
       "    <tr>\n",
       "      <th>1</th>\n",
       "      <td>DC_1</td>\n",
       "      <td>SKU_1</td>\n",
       "      <td>SKU_1_Batch_2</td>\n",
       "      <td>156</td>\n",
       "      <td>10</td>\n",
       "      <td>2.825307</td>\n",
       "    </tr>\n",
       "    <tr>\n",
       "      <th>2</th>\n",
       "      <td>DC_1</td>\n",
       "      <td>SKU_1</td>\n",
       "      <td>SKU_1_Batch_3</td>\n",
       "      <td>238</td>\n",
       "      <td>23</td>\n",
       "      <td>8.214560</td>\n",
       "    </tr>\n",
       "    <tr>\n",
       "      <th>3</th>\n",
       "      <td>DC_1</td>\n",
       "      <td>SKU_1</td>\n",
       "      <td>SKU_1_Batch_4</td>\n",
       "      <td>152</td>\n",
       "      <td>28</td>\n",
       "      <td>2.046000</td>\n",
       "    </tr>\n",
       "    <tr>\n",
       "      <th>4</th>\n",
       "      <td>DC_1</td>\n",
       "      <td>SKU_2</td>\n",
       "      <td>SKU_2_Batch_1</td>\n",
       "      <td>264</td>\n",
       "      <td>13</td>\n",
       "      <td>3.149458</td>\n",
       "    </tr>\n",
       "  </tbody>\n",
       "</table>\n",
       "</div>"
      ],
      "text/plain": [
       "  Source_DC    SKU       Batch_ID  AvailableStock  ShelfLifeDays  PerUnitPrice\n",
       "0      DC_1  SKU_1  SKU_1_Batch_1             398             17      8.402283\n",
       "1      DC_1  SKU_1  SKU_1_Batch_2             156             10      2.825307\n",
       "2      DC_1  SKU_1  SKU_1_Batch_3             238             23      8.214560\n",
       "3      DC_1  SKU_1  SKU_1_Batch_4             152             28      2.046000\n",
       "4      DC_1  SKU_2  SKU_2_Batch_1             264             13      3.149458"
      ]
     },
     "execution_count": 21,
     "metadata": {},
     "output_type": "execute_result"
    }
   ],
   "source": [
    "#preview the csv file\n",
    "source_data.head()"
   ]
  },
  {
   "cell_type": "code",
   "execution_count": 22,
   "metadata": {},
   "outputs": [
    {
     "data": {
      "text/html": [
       "<div>\n",
       "<style scoped>\n",
       "    .dataframe tbody tr th:only-of-type {\n",
       "        vertical-align: middle;\n",
       "    }\n",
       "\n",
       "    .dataframe tbody tr th {\n",
       "        vertical-align: top;\n",
       "    }\n",
       "\n",
       "    .dataframe thead th {\n",
       "        text-align: right;\n",
       "    }\n",
       "</style>\n",
       "<table border=\"1\" class=\"dataframe\">\n",
       "  <thead>\n",
       "    <tr style=\"text-align: right;\">\n",
       "      <th></th>\n",
       "      <th>Source_DC</th>\n",
       "      <th>Destination_DC</th>\n",
       "      <th>SKU</th>\n",
       "      <th>PerUnitTransportationCost</th>\n",
       "      <th>TransitTimeDays</th>\n",
       "    </tr>\n",
       "  </thead>\n",
       "  <tbody>\n",
       "    <tr>\n",
       "      <th>0</th>\n",
       "      <td>DC_1</td>\n",
       "      <td>DC_1</td>\n",
       "      <td>SKU_1</td>\n",
       "      <td>2.668404</td>\n",
       "      <td>1</td>\n",
       "    </tr>\n",
       "    <tr>\n",
       "      <th>1</th>\n",
       "      <td>DC_1</td>\n",
       "      <td>DC_1</td>\n",
       "      <td>SKU_2</td>\n",
       "      <td>3.206992</td>\n",
       "      <td>4</td>\n",
       "    </tr>\n",
       "    <tr>\n",
       "      <th>2</th>\n",
       "      <td>DC_1</td>\n",
       "      <td>DC_1</td>\n",
       "      <td>SKU_3</td>\n",
       "      <td>3.344718</td>\n",
       "      <td>5</td>\n",
       "    </tr>\n",
       "    <tr>\n",
       "      <th>3</th>\n",
       "      <td>DC_1</td>\n",
       "      <td>DC_1</td>\n",
       "      <td>SKU_4</td>\n",
       "      <td>3.020413</td>\n",
       "      <td>1</td>\n",
       "    </tr>\n",
       "    <tr>\n",
       "      <th>4</th>\n",
       "      <td>DC_1</td>\n",
       "      <td>DC_1</td>\n",
       "      <td>SKU_5</td>\n",
       "      <td>2.812345</td>\n",
       "      <td>9</td>\n",
       "    </tr>\n",
       "  </tbody>\n",
       "</table>\n",
       "</div>"
      ],
      "text/plain": [
       "  Source_DC Destination_DC    SKU  PerUnitTransportationCost  TransitTimeDays\n",
       "0      DC_1           DC_1  SKU_1                   2.668404                1\n",
       "1      DC_1           DC_1  SKU_2                   3.206992                4\n",
       "2      DC_1           DC_1  SKU_3                   3.344718                5\n",
       "3      DC_1           DC_1  SKU_4                   3.020413                1\n",
       "4      DC_1           DC_1  SKU_5                   2.812345                9"
      ]
     },
     "execution_count": 22,
     "metadata": {},
     "output_type": "execute_result"
    }
   ],
   "source": [
    "#preview the csv file\n",
    "transport_data.head()"
   ]
  },
  {
   "cell_type": "code",
   "execution_count": null,
   "metadata": {},
   "outputs": [
    {
     "name": "stdout",
     "output_type": "stream",
     "text": [
      "Collecting langchain-community\n",
      "  Downloading langchain_community-0.3.18-py3-none-any.whl.metadata (2.4 kB)\n",
      "Collecting langchain-core<1.0.0,>=0.3.37 (from langchain-community)\n",
      "  Downloading langchain_core-0.3.41-py3-none-any.whl.metadata (5.9 kB)\n",
      "Collecting langchain<1.0.0,>=0.3.19 (from langchain-community)\n",
      "  Downloading langchain-0.3.19-py3-none-any.whl.metadata (7.9 kB)\n",
      "Collecting SQLAlchemy<3,>=1.4 (from langchain-community)\n",
      "  Using cached SQLAlchemy-2.0.38-cp310-cp310-macosx_10_9_x86_64.whl.metadata (9.6 kB)\n",
      "Collecting requests<3,>=2 (from langchain-community)\n",
      "  Using cached requests-2.32.3-py3-none-any.whl.metadata (4.6 kB)\n",
      "Collecting PyYAML>=5.3 (from langchain-community)\n",
      "  Using cached PyYAML-6.0.2-cp310-cp310-macosx_10_9_x86_64.whl.metadata (2.1 kB)\n",
      "Collecting aiohttp<4.0.0,>=3.8.3 (from langchain-community)\n",
      "  Downloading aiohttp-3.11.13-cp310-cp310-macosx_10_9_x86_64.whl.metadata (7.7 kB)\n",
      "Collecting tenacity!=8.4.0,<10,>=8.1.0 (from langchain-community)\n",
      "  Using cached tenacity-9.0.0-py3-none-any.whl.metadata (1.2 kB)\n",
      "Collecting dataclasses-json<0.7,>=0.5.7 (from langchain-community)\n",
      "  Using cached dataclasses_json-0.6.7-py3-none-any.whl.metadata (25 kB)\n",
      "Collecting pydantic-settings<3.0.0,>=2.4.0 (from langchain-community)\n",
      "  Downloading pydantic_settings-2.8.1-py3-none-any.whl.metadata (3.5 kB)\n",
      "Collecting langsmith<0.4,>=0.1.125 (from langchain-community)\n",
      "  Downloading langsmith-0.3.11-py3-none-any.whl.metadata (14 kB)\n",
      "Collecting httpx-sse<1.0.0,>=0.4.0 (from langchain-community)\n",
      "  Using cached httpx_sse-0.4.0-py3-none-any.whl.metadata (9.0 kB)\n",
      "Collecting numpy<2,>=1.26.4 (from langchain-community)\n",
      "  Using cached numpy-1.26.4-cp310-cp310-macosx_10_9_x86_64.whl.metadata (61 kB)\n",
      "Collecting aiohappyeyeballs>=2.3.0 (from aiohttp<4.0.0,>=3.8.3->langchain-community)\n",
      "  Downloading aiohappyeyeballs-2.4.8-py3-none-any.whl.metadata (5.9 kB)\n",
      "Collecting aiosignal>=1.1.2 (from aiohttp<4.0.0,>=3.8.3->langchain-community)\n",
      "  Using cached aiosignal-1.3.2-py2.py3-none-any.whl.metadata (3.8 kB)\n"
     ]
    }
   ],
   "source": [
    "# !pip install langchain-community"
   ]
  },
  {
   "cell_type": "code",
   "execution_count": null,
   "metadata": {},
   "outputs": [],
   "source": []
  }
 ],
 "metadata": {
  "kernelspec": {
   "display_name": ".venv",
   "language": "python",
   "name": "python3"
  },
  "language_info": {
   "codemirror_mode": {
    "name": "ipython",
    "version": 3
   },
   "file_extension": ".py",
   "mimetype": "text/x-python",
   "name": "python",
   "nbconvert_exporter": "python",
   "pygments_lexer": "ipython3",
   "version": "3.10.9"
  }
 },
 "nbformat": 4,
 "nbformat_minor": 2
}
